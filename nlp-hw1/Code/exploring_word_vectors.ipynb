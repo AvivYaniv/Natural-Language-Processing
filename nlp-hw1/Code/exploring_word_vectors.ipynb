{
 "cells": [
  {
   "cell_type": "markdown",
   "metadata": {
    "colab_type": "text",
    "id": "hzOlXlBZYber"
   },
   "source": [
    "### Submission Instructions:\n",
    "1. **Restart the kernel** (in the menubar, select Runtime$\\rightarrow$Restart runtime)\n",
    "2. **Run all cells** (in the menubar, select Runtime$\\rightarrow$Run All).\n",
    "3. **Download the notebook** (in the menubar, select File$\\rightarrow$Download .ipynb)\n",
    "4. **Add the downloaded notebook (.ipynb file) to the submission zip**.\n",
    "\n",
    "Make sure you fill in any place that says `YOUR CODE HERE` or \"**WRITE YOUR ANSWER IN THIS CELL**\", and that no tests fail.  \n",
    "Write the IDs of all group members in the cell below. Leave any surplus IDs as `\"\"`."
   ]
  },
  {
   "cell_type": "markdown",
   "metadata": {
    "colab_type": "text",
    "id": "1rhM5rzgYbex"
   },
   "source": [
    "ID1 = \"\"  \n",
    "ID2 = \"\""
   ]
  },
  {
   "cell_type": "markdown",
   "metadata": {
    "colab_type": "text",
    "id": "XjghnpjnYbe0"
   },
   "source": [
    "---"
   ]
  },
  {
   "cell_type": "markdown",
   "metadata": {
    "colab_type": "text",
    "deletable": false,
    "editable": false,
    "id": "dksKQXh7tp44",
    "nbgrader": {
     "cell_type": "markdown",
     "checksum": "96e59f32aa7718569848f2fc3fbca140",
     "grade": false,
     "grade_id": "cell-5f22f17e0ef4f5a4",
     "locked": true,
     "schema_version": 3,
     "solution": false,
     "task": false
    }
   },
   "source": [
    "## A Gentle Exploration of Word Vectors"
   ]
  },
  {
   "cell_type": "markdown",
   "metadata": {
    "colab_type": "text",
    "deletable": false,
    "editable": false,
    "id": "zc7qkOVqWQH_",
    "nbgrader": {
     "cell_type": "markdown",
     "checksum": "72d11b9e18f033bafb3e188037deedd5",
     "grade": false,
     "grade_id": "cell-1fc7203704f94a6c",
     "locked": true,
     "schema_version": 3,
     "solution": false,
     "task": false
    }
   },
   "source": [
    "### Why Word Vectors?\n",
    "\n",
    "Say you want to build a model that takes a sentence as an input and outputs, for each word in that sentence, if it is a noun, verb, adjective, or something else. In the literature, this is known as [part-of-speech (POS) tagging](https://en.wikipedia.org/wiki/Part-of-speech_tagging). One of the most important design choices in a model is how to represent the input. In our case, the input could be seen as a list of words.\n",
    "\n",
    "Given current trends, say we decide to implement our model using neural networks (if you have yet to take Introduction to Machine Learning, assume for now that neural networks are essentially a computational model that takes vectors as input). Therefore, a natural way of representing our input in such a model is with vectors, where each word in the sentence is represented by a vector.\n",
    "\n",
    "But how do we create 'good' word vectors? And furthermore, what makes one set of word vectors better than another?\n",
    "\n",
    "In our POS example, we want that the information encoded in the word vectors will help our model to correctly predict the part of speech tags for a given input sentence. And if using a set of word vectors $S_1$ in our model leads to better results than using word vectors $S_2$, we could say that $S_1$ are better word vectors than $S_2$. But what if another researcher reports that in his _translation_ model, using $S_2$ leads to better results than using $S_1$?\n",
    "\n",
    "As you probably expect, good word vectors are also expected to be generalizable i.e. perform well overall in a variety of tasks, such as the aforementioned POS tagging and translation. In NLP literature, these tasks are commonly referred to as \"[downstream tasks](https://stackoverflow.com/a/54518001/2133678)\", highlighting the distinction between the actual process of _creating_ word vectors, and the word vectors' ability to be _utilized_ in various other tasks.\n",
    "\n",
    "In this notebook, we'll explore two methods aimed to create 'good' word vectors: _co-occurrence matrices_ and _word2vec_.\n",
    "\n",
    "**Note on Terminology:** The terms \"word vectors\" and \"word embeddings\" are often used interchangeably. The term \"embedding\" refers to the fact that we are encoding aspects of a word's meaning in a lower dimensional space. As [Wikipedia](https://en.wikipedia.org/wiki/Word_embedding) states, \"conceptually it involves a mathematical embedding from a space with one dimension per word to a continuous vector space with a much lower dimension\"."
   ]
  },
  {
   "cell_type": "markdown",
   "metadata": {
    "colab_type": "text",
    "deletable": false,
    "editable": false,
    "id": "T_ckPD_-tp5P",
    "nbgrader": {
     "cell_type": "markdown",
     "checksum": "c0253abd82cf04d66f64bc882d6efada",
     "grade": false,
     "grade_id": "cell-e165f802ed63dc85",
     "locked": true,
     "schema_version": 3,
     "solution": false,
     "task": false
    }
   },
   "source": [
    "## Preliminary Imports and Settings\n",
    "Before proceeding to the next parts, please run the cell below.  \n",
    "**Do not change its contents.**"
   ]
  },
  {
   "cell_type": "code",
   "execution_count": 4,
   "metadata": {
    "colab": {
     "base_uri": "https://localhost:8080/",
     "height": 50
    },
    "colab_type": "code",
    "deletable": false,
    "editable": false,
    "id": "9_pS47_Ntp4_",
    "nbgrader": {
     "cell_type": "code",
     "checksum": "942917c673a43619a66e5b301e89cb74",
     "grade": false,
     "grade_id": "cell-297d1cd31049004f",
     "locked": true,
     "schema_version": 3,
     "solution": false,
     "task": false
    },
    "outputId": "12311c4f-2090-4ceb-b221-a43ad73edca8"
   },
   "outputs": [
    {
     "name": "stderr",
     "output_type": "stream",
     "text": [
      "[nltk_data] Downloading package reuters to\n",
      "[nltk_data]     C:\\Users\\AvivYaniv\\AppData\\Roaming\\nltk_data...\n",
      "[nltk_data]   Package reuters is already up-to-date!\n"
     ]
    }
   ],
   "source": [
    "# All Import Statements Defined Here\n",
    "# Note: Do not add to this list.\n",
    "# ----------------\n",
    "\n",
    "import sys\n",
    "assert sys.version_info[0] == 3\n",
    "assert sys.version_info[1] >= 5\n",
    "\n",
    "import itertools\n",
    "import pprint\n",
    "import random\n",
    "\n",
    "import matplotlib.pyplot as plt\n",
    "import nltk\n",
    "import numpy as np\n",
    "import scipy as sp\n",
    "\n",
    "from gensim.models import KeyedVectors\n",
    "from gensim.test.utils import datapath\n",
    "from nltk.corpus import reuters\n",
    "from sklearn.decomposition import TruncatedSVD\n",
    "\n",
    "# matplotlib figure size\n",
    "plt.rcParams['figure.figsize'] = [10, 5]\n",
    "\n",
    "# downloads the Reuters corpus\n",
    "nltk.download('reuters')\n",
    "\n",
    "START_TOKEN = '<START>'\n",
    "END_TOKEN = '<END>'\n",
    "\n",
    "np.random.seed(0)\n",
    "random.seed(0)\n",
    "# ----------------"
   ]
  },
  {
   "cell_type": "markdown",
   "metadata": {
    "colab_type": "text",
    "deletable": false,
    "editable": false,
    "id": "yWeIPJTYtp5S",
    "nbgrader": {
     "cell_type": "markdown",
     "checksum": "0b47d2300c91d452e6075d9341b743f2",
     "grade": false,
     "grade_id": "cell-63892a3e13840b2e",
     "locked": true,
     "schema_version": 3,
     "solution": false,
     "task": false
    }
   },
   "source": [
    "## Part 1: Count-Based Word Vectors\n",
    "\n",
    "Most word vector models start from the following idea:\n",
    "\n",
    "*You shall know a word by the company it keeps ([Firth, J. R. 1957:11](https://en.wikipedia.org/wiki/John_Rupert_Firth))*\n",
    "\n",
    "Many word vector implementations are driven by the idea that similar words, i.e., (near) synonyms, will be used in similar contexts. As a result, similar words will often be spoken or written along with a shared subset of words, i.e., contexts. By examining these contexts, we can try to develop embeddings for our words. With this intuition in mind, many \"old school\" approaches to constructing word vectors relied on word counts. Here we elaborate upon one of those strategies, *co-occurrence matrices* (for more information, see [here](http://web.stanford.edu/class/cs124/lec/vectorsemantics.video.pdf) or [here](https://medium.com/data-science-group-iitr/word-embedding-2d05d270b285))."
   ]
  },
  {
   "cell_type": "markdown",
   "metadata": {
    "colab_type": "text",
    "deletable": false,
    "editable": false,
    "id": "8R-AxKH2tp5V",
    "nbgrader": {
     "cell_type": "markdown",
     "checksum": "1652c6342d0c92a878e7ebe297f87f1b",
     "grade": false,
     "grade_id": "cell-83d0a37abf0cb80e",
     "locked": true,
     "schema_version": 3,
     "solution": false,
     "task": false
    }
   },
   "source": [
    "### Co-Occurrence\n",
    "\n",
    "A co-occurrence matrix counts how often things co-occur in some environment. Given some word $w_i$ occurring in the document, we consider the *context window* surrounding $w_i$. Supposing our fixed window size is $n$, then this is the $n$ preceding and $n$ subsequent words in that document, i.e., words $w_{i-n} \\dots w_{i-1}$ and $w_{i+1} \\dots w_{i+n}$. We build a *co-occurrence matrix* $M$, which is a symmetric matrix in which $M_{ij}$ is the number of times $w_j$ appears inside $w_i$'s window.\n",
    "\n",
    "**Example: Co-Occurrence with Fixed Window of n=1**:\n",
    "\n",
    "Document 1: \"all that glitters is not gold\"\n",
    "\n",
    "Document 2: \"all is well that ends well\"\n",
    "\n",
    "\n",
    "|     *    | \\<START\\> | all | that | glitters | is   | not  | gold  | well | ends | \\<END\\> |\n",
    "|----------|-------|-----|------|----------|------|------|-------|------|------|-----|\n",
    "| \\<START\\>    | 0     | 2   | 0    | 0        | 0    | 0    | 0     | 0    | 0    | 0   |\n",
    "| all      | 2     | 0   | 1    | 0        | 1    | 0    | 0     | 0    | 0    | 0   |\n",
    "| that     | 0     | 1   | 0    | 1        | 0    | 0    | 0     | 1    | 1    | 0   |\n",
    "| glitters | 0     | 0   | 1    | 0        | 1    | 0    | 0     | 0    | 0    | 0   |\n",
    "| is       | 0     | 1   | 0    | 1        | 0    | 1    | 0     | 1    | 0    | 0   |\n",
    "| not      | 0     | 0   | 0    | 0        | 1    | 0    | 1     | 0    | 0    | 0   |\n",
    "| gold     | 0     | 0   | 0    | 0        | 0    | 1    | 0     | 0    | 0    | 1   |\n",
    "| well     | 0     | 0   | 1    | 0        | 1    | 0    | 0     | 0    | 1    | 1   |\n",
    "| ends     | 0     | 0   | 1    | 0        | 0    | 0    | 0     | 1    | 0    | 0   |\n",
    "| \\<END\\>      | 0     | 0   | 0    | 0        | 0    | 0    | 1     | 1    | 0    | 0   |\n",
    "\n",
    "**Note:** In NLP, we often add \\<START\\> and \\<END\\> tokens to represent the beginning and end of sentences, paragraphs or documents. In our case we imagine \\<START\\> and \\<END\\> tokens encapsulating each document, e.g., \"\\<START\\> All that glitters is not gold \\<END\\>\", and include these tokens in our co-occurrence counts. You can see how we addressed this issue at the bottom of the initial 'imports' cell.\n",
    "\n",
    "The rows (or columns) of this matrix provide one type of word vectors (those based on word-word co-occurrence), but the vectors will be large in general (linear in the number of distinct words in a corpus). Thus, our next step is to run *dimensionality reduction*. In particular, we will run *SVD (Singular Value Decomposition)*, which is a kind of generalized *PCA (Principal Components Analysis)* to select the top $k$ principal components. Here's a visualization of dimensionality reduction with SVD. In this picture our co-occurrence matrix is $A$ with $n$ rows corresponding to $n$ words. We obtain a full matrix decomposition, with the singular values ordered in the diagonal $S$ matrix, and our new, shorter length-$k$ word vectors in $U_k$.\n",
    "\n",
    "![Picture of an SVD](https://i.imgur.com/u0qTrf1.png)\n",
    "\n",
    "This reduced-dimensionality co-occurrence representation preserves semantic relationships between words, e.g. *doctor* and *hospital* will be closer than *doctor* and *dog*. \n",
    "\n",
    "**Notes:** If you can barely remember what an eigenvalue is, here's [a slow, friendly introduction to SVD](https://davetang.org/file/Singular_Value_Decomposition_Tutorial.pdf). If you need quicker refresher just on SVD, check out this [comforting short video](https://www.youtube.com/watch?v=mBcLRGuAFUk). In practice, it is challenging to apply full SVD to large [corpora](https://www.merriam-webster.com/dictionary/corpora) because of the memory needed to perform PCA or SVD. However, if you only want the top $k$ vector components for relatively small $k$ — known as _[Truncated SVD](https://en.wikipedia.org/wiki/Singular_value_decomposition#Truncated_SVD)_ — then there are reasonably scalable techniques to compute those iteratively."
   ]
  },
  {
   "cell_type": "markdown",
   "metadata": {
    "colab_type": "text",
    "deletable": false,
    "editable": false,
    "id": "i5at8grBtp5Y",
    "nbgrader": {
     "cell_type": "markdown",
     "checksum": "cb8d7dee2bfce1bfcf628c4a3aff266a",
     "grade": false,
     "grade_id": "cell-5e68599347bd3e4a",
     "locked": true,
     "schema_version": 3,
     "solution": false,
     "task": false
    }
   },
   "source": [
    "### Plotting Co-Occurrence Word Embeddings\n",
    "\n",
    "Here, we will be using the [Reuters corpus](https://www.nltk.org/book/ch02.html#reuters-corpus). If you haven't run the import cell at the top of this page, please run it now. The corpus consists of 10,788 news documents totaling 1.3 million words. These documents span 90 categories and are split into train and test. We provide a `read_corpus` function below that pulls out only articles from the \"crude\" (i.e. news articles about oil, gas, etc.) category. The function also adds \\<START\\> and \\<START\\> tokens to each of the documents, and lowercases words. You do **not** have to perform any other kind of pre-processing."
   ]
  },
  {
   "cell_type": "code",
   "execution_count": 7,
   "metadata": {
    "colab": {},
    "colab_type": "code",
    "deletable": false,
    "editable": false,
    "id": "Gkp54XOdtp5a",
    "nbgrader": {
     "cell_type": "code",
     "checksum": "6bff6564909da27d4745f46b3370f4fd",
     "grade": false,
     "grade_id": "cell-2b4fc11a924e6728",
     "locked": true,
     "schema_version": 3,
     "solution": false,
     "task": false
    }
   },
   "outputs": [],
   "source": [
    "def read_corpus(category=\"crude\"):\n",
    "    \"\"\" Read files from the specified Reuter's category.\n",
    "        Params:\n",
    "            category (string): category name.\n",
    "        Return:\n",
    "            list of lists, with words from each of the processed files.\n",
    "    \"\"\"\n",
    "    files = reuters.fileids(category)\n",
    "    return [[START_TOKEN] + [w.lower() for w in list(reuters.words(f))] + [END_TOKEN] for f in files]"
   ]
  },
  {
   "cell_type": "markdown",
   "metadata": {
    "colab_type": "text",
    "deletable": false,
    "editable": false,
    "id": "pyKNgwU5tp5h",
    "nbgrader": {
     "cell_type": "markdown",
     "checksum": "6b814bfcc23271bd4c90bed3928ee39a",
     "grade": false,
     "grade_id": "cell-171c24b46651ee34",
     "locked": true,
     "schema_version": 3,
     "solution": false,
     "task": false
    }
   },
   "source": [
    "Let's have a look on how these documents are like…."
   ]
  },
  {
   "cell_type": "code",
   "execution_count": 8,
   "metadata": {
    "colab": {
     "base_uri": "https://localhost:8080/",
     "height": 1000
    },
    "colab_type": "code",
    "deletable": false,
    "editable": false,
    "id": "xuYLDMGdtp5j",
    "nbgrader": {
     "cell_type": "code",
     "checksum": "e4c778ec8b5126a52b1fd814a250b085",
     "grade": false,
     "grade_id": "cell-ee70a6ab50a00295",
     "locked": true,
     "schema_version": 3,
     "solution": false,
     "task": false
    },
    "outputId": "756d26fb-5730-4ca4-fe72-28635d8c15e1"
   },
   "outputs": [
    {
     "name": "stdout",
     "output_type": "stream",
     "text": [
      "[['<START>', 'japan', 'to', 'revise', 'long', '-', 'term', 'energy', 'demand', 'downwards', 'the', 'ministry', 'of',\n",
      "  'international', 'trade', 'and', 'industry', '(', 'miti', ')', 'will', 'revise', 'its', 'long', '-', 'term', 'energy',\n",
      "  'supply', '/', 'demand', 'outlook', 'by', 'august', 'to', 'meet', 'a', 'forecast', 'downtrend', 'in', 'japanese',\n",
      "  'energy', 'demand', ',', 'ministry', 'officials', 'said', '.', 'miti', 'is', 'expected', 'to', 'lower', 'the',\n",
      "  'projection', 'for', 'primary', 'energy', 'supplies', 'in', 'the', 'year', '2000', 'to', '550', 'mln', 'kilolitres',\n",
      "  '(', 'kl', ')', 'from', '600', 'mln', ',', 'they', 'said', '.', 'the', 'decision', 'follows', 'the', 'emergence',\n",
      "  'of', 'structural', 'changes', 'in', 'japanese', 'industry', 'following', 'the', 'rise', 'in', 'the', 'value', 'of',\n",
      "  'the', 'yen', 'and', 'a', 'decline', 'in', 'domestic', 'electric', 'power', 'demand', '.', 'miti', 'is', 'planning',\n",
      "  'to', 'work', 'out', 'a', 'revised', 'energy', 'supply', '/', 'demand', 'outlook', 'through', 'deliberations', 'of',\n",
      "  'committee', 'meetings', 'of', 'the', 'agency', 'of', 'natural', 'resources', 'and', 'energy', ',', 'the',\n",
      "  'officials', 'said', '.', 'they', 'said', 'miti', 'will', 'also', 'review', 'the', 'breakdown', 'of', 'energy',\n",
      "  'supply', 'sources', ',', 'including', 'oil', ',', 'nuclear', ',', 'coal', 'and', 'natural', 'gas', '.', 'nuclear',\n",
      "  'energy', 'provided', 'the', 'bulk', 'of', 'japan', \"'\", 's', 'electric', 'power', 'in', 'the', 'fiscal', 'year',\n",
      "  'ended', 'march', '31', ',', 'supplying', 'an', 'estimated', '27', 'pct', 'on', 'a', 'kilowatt', '/', 'hour', 'basis',\n",
      "  ',', 'followed', 'by', 'oil', '(', '23', 'pct', ')', 'and', 'liquefied', 'natural', 'gas', '(', '21', 'pct', '),',\n",
      "  'they', 'noted', '.', '<END>'],\n",
      " ['<START>', 'energy', '/', 'u', '.', 's', '.', 'petrochemical', 'industry', 'cheap', 'oil', 'feedstocks', ',', 'the',\n",
      "  'weakened', 'u', '.', 's', '.', 'dollar', 'and', 'a', 'plant', 'utilization', 'rate', 'approaching', '90', 'pct',\n",
      "  'will', 'propel', 'the', 'streamlined', 'u', '.', 's', '.', 'petrochemical', 'industry', 'to', 'record', 'profits',\n",
      "  'this', 'year', ',', 'with', 'growth', 'expected', 'through', 'at', 'least', '1990', ',', 'major', 'company',\n",
      "  'executives', 'predicted', '.', 'this', 'bullish', 'outlook', 'for', 'chemical', 'manufacturing', 'and', 'an',\n",
      "  'industrywide', 'move', 'to', 'shed', 'unrelated', 'businesses', 'has', 'prompted', 'gaf', 'corp', '&', 'lt', ';',\n",
      "  'gaf', '>,', 'privately', '-', 'held', 'cain', 'chemical', 'inc', ',', 'and', 'other', 'firms', 'to', 'aggressively',\n",
      "  'seek', 'acquisitions', 'of', 'petrochemical', 'plants', '.', 'oil', 'companies', 'such', 'as', 'ashland', 'oil',\n",
      "  'inc', '&', 'lt', ';', 'ash', '>,', 'the', 'kentucky', '-', 'based', 'oil', 'refiner', 'and', 'marketer', ',', 'are',\n",
      "  'also', 'shopping', 'for', 'money', '-', 'making', 'petrochemical', 'businesses', 'to', 'buy', '.', '\"', 'i', 'see',\n",
      "  'us', 'poised', 'at', 'the', 'threshold', 'of', 'a', 'golden', 'period', ',\"', 'said', 'paul', 'oreffice', ',',\n",
      "  'chairman', 'of', 'giant', 'dow', 'chemical', 'co', '&', 'lt', ';', 'dow', '>,', 'adding', ',', '\"', 'there', \"'\",\n",
      "  's', 'no', 'major', 'plant', 'capacity', 'being', 'added', 'around', 'the', 'world', 'now', '.', 'the', 'whole',\n",
      "  'game', 'is', 'bringing', 'out', 'new', 'products', 'and', 'improving', 'the', 'old', 'ones', '.\"', 'analysts', 'say',\n",
      "  'the', 'chemical', 'industry', \"'\", 's', 'biggest', 'customers', ',', 'automobile', 'manufacturers', 'and', 'home',\n",
      "  'builders', 'that', 'use', 'a', 'lot', 'of', 'paints', 'and', 'plastics', ',', 'are', 'expected', 'to', 'buy',\n",
      "  'quantities', 'this', 'year', '.', 'u', '.', 's', '.', 'petrochemical', 'plants', 'are', 'currently', 'operating',\n",
      "  'at', 'about', '90', 'pct', 'capacity', ',', 'reflecting', 'tighter', 'supply', 'that', 'could', 'hike', 'product',\n",
      "  'prices', 'by', '30', 'to', '40', 'pct', 'this', 'year', ',', 'said', 'john', 'dosher', ',', 'managing', 'director',\n",
      "  'of', 'pace', 'consultants', 'inc', 'of', 'houston', '.', 'demand', 'for', 'some', 'products', 'such', 'as',\n",
      "  'styrene', 'could', 'push', 'profit', 'margins', 'up', 'by', 'as', 'much', 'as', '300', 'pct', ',', 'he', 'said', '.',\n",
      "  'oreffice', ',', 'speaking', 'at', 'a', 'meeting', 'of', 'chemical', 'engineers', 'in', 'houston', ',', 'said', 'dow',\n",
      "  'would', 'easily', 'top', 'the', '741', 'mln', 'dlrs', 'it', 'earned', 'last', 'year', 'and', 'predicted', 'it',\n",
      "  'would', 'have', 'the', 'best', 'year', 'in', 'its', 'history', '.', 'in', '1985', ',', 'when', 'oil', 'prices',\n",
      "  'were', 'still', 'above', '25', 'dlrs', 'a', 'barrel', 'and', 'chemical', 'exports', 'were', 'adversely', 'affected',\n",
      "  'by', 'the', 'strong', 'u', '.', 's', '.', 'dollar', ',', 'dow', 'had', 'profits', 'of', '58', 'mln', 'dlrs', '.',\n",
      "  '\"', 'i', 'believe', 'the', 'entire', 'chemical', 'industry', 'is', 'headed', 'for', 'a', 'record', 'year', 'or',\n",
      "  'close', 'to', 'it', ',\"', 'oreffice', 'said', '.', 'gaf', 'chairman', 'samuel', 'heyman', 'estimated', 'that', 'the',\n",
      "  'u', '.', 's', '.', 'chemical', 'industry', 'would', 'report', 'a', '20', 'pct', 'gain', 'in', 'profits', 'during',\n",
      "  '1987', '.', 'last', 'year', ',', 'the', 'domestic', 'industry', 'earned', 'a', 'total', 'of', '13', 'billion',\n",
      "  'dlrs', ',', 'a', '54', 'pct', 'leap', 'from', '1985', '.', 'the', 'turn', 'in', 'the', 'fortunes', 'of', 'the',\n",
      "  'once', '-', 'sickly', 'chemical', 'industry', 'has', 'been', 'brought', 'about', 'by', 'a', 'combination', 'of',\n",
      "  'luck', 'and', 'planning', ',', 'said', 'pace', \"'\", 's', 'john', 'dosher', '.', 'dosher', 'said', 'last', 'year',\n",
      "  \"'\", 's', 'fall', 'in', 'oil', 'prices', 'made', 'feedstocks', 'dramatically', 'cheaper', 'and', 'at', 'the', 'same',\n",
      "  'time', 'the', 'american', 'dollar', 'was', 'weakening', 'against', 'foreign', 'currencies', '.', 'that', 'helped',\n",
      "  'boost', 'u', '.', 's', '.', 'chemical', 'exports', '.', 'also', 'helping', 'to', 'bring', 'supply', 'and', 'demand',\n",
      "  'into', 'balance', 'has', 'been', 'the', 'gradual', 'market', 'absorption', 'of', 'the', 'extra', 'chemical',\n",
      "  'manufacturing', 'capacity', 'created', 'by', 'middle', 'eastern', 'oil', 'producers', 'in', 'the', 'early', '1980s',\n",
      "  '.', 'finally', ',', 'virtually', 'all', 'major', 'u', '.', 's', '.', 'chemical', 'manufacturers', 'have', 'embarked',\n",
      "  'on', 'an', 'extensive', 'corporate', 'restructuring', 'program', 'to', 'mothball', 'inefficient', 'plants', ',',\n",
      "  'trim', 'the', 'payroll', 'and', 'eliminate', 'unrelated', 'businesses', '.', 'the', 'restructuring', 'touched',\n",
      "  'off', 'a', 'flurry', 'of', 'friendly', 'and', 'hostile', 'takeover', 'attempts', '.', 'gaf', ',', 'which', 'made',\n",
      "  'an', 'unsuccessful', 'attempt', 'in', '1985', 'to', 'acquire', 'union', 'carbide', 'corp', '&', 'lt', ';', 'uk',\n",
      "  '>,', 'recently', 'offered', 'three', 'billion', 'dlrs', 'for', 'borg', 'warner', 'corp', '&', 'lt', ';', 'bor', '>,',\n",
      "  'a', 'chicago', 'manufacturer', 'of', 'plastics', 'and', 'chemicals', '.', 'another', 'industry', 'powerhouse', ',',\n",
      "  'w', '.', 'r', '.', 'grace', '&', 'lt', ';', 'gra', '>', 'has', 'divested', 'its', 'retailing', ',', 'restaurant',\n",
      "  'and', 'fertilizer', 'businesses', 'to', 'raise', 'cash', 'for', 'chemical', 'acquisitions', '.', 'but', 'some',\n",
      "  'experts', 'worry', 'that', 'the', 'chemical', 'industry', 'may', 'be', 'headed', 'for', 'trouble', 'if', 'companies',\n",
      "  'continue', 'turning', 'their', 'back', 'on', 'the', 'manufacturing', 'of', 'staple', 'petrochemical', 'commodities',\n",
      "  ',', 'such', 'as', 'ethylene', ',', 'in', 'favor', 'of', 'more', 'profitable', 'specialty', 'chemicals', 'that',\n",
      "  'are', 'custom', '-', 'designed', 'for', 'a', 'small', 'group', 'of', 'buyers', '.', '\"', 'companies', 'like',\n",
      "  'dupont', '&', 'lt', ';', 'dd', '>', 'and', 'monsanto', 'co', '&', 'lt', ';', 'mtc', '>', 'spent', 'the', 'past',\n",
      "  'two', 'or', 'three', 'years', 'trying', 'to', 'get', 'out', 'of', 'the', 'commodity', 'chemical', 'business', 'in',\n",
      "  'reaction', 'to', 'how', 'badly', 'the', 'market', 'had', 'deteriorated', ',\"', 'dosher', 'said', '.', '\"', 'but',\n",
      "  'i', 'think', 'they', 'will', 'eventually', 'kill', 'the', 'margins', 'on', 'the', 'profitable', 'chemicals', 'in',\n",
      "  'the', 'niche', 'market', '.\"', 'some', 'top', 'chemical', 'executives', 'share', 'the', 'concern', '.', '\"', 'the',\n",
      "  'challenge', 'for', 'our', 'industry', 'is', 'to', 'keep', 'from', 'getting', 'carried', 'away', 'and', 'repeating',\n",
      "  'past', 'mistakes', ',\"', 'gaf', \"'\", 's', 'heyman', 'cautioned', '.', '\"', 'the', 'shift', 'from', 'commodity',\n",
      "  'chemicals', 'may', 'be', 'ill', '-', 'advised', '.', 'specialty', 'businesses', 'do', 'not', 'stay', 'special',\n",
      "  'long', '.\"', 'houston', '-', 'based', 'cain', 'chemical', ',', 'created', 'this', 'month', 'by', 'the', 'sterling',\n",
      "  'investment', 'banking', 'group', ',', 'believes', 'it', 'can', 'generate', '700', 'mln', 'dlrs', 'in', 'annual',\n",
      "  'sales', 'by', 'bucking', 'the', 'industry', 'trend', '.', 'chairman', 'gordon', 'cain', ',', 'who', 'previously',\n",
      "  'led', 'a', 'leveraged', 'buyout', 'of', 'dupont', \"'\", 's', 'conoco', 'inc', \"'\", 's', 'chemical', 'business', ',',\n",
      "  'has', 'spent', '1', '.', '1', 'billion', 'dlrs', 'since', 'january', 'to', 'buy', 'seven', 'petrochemical', 'plants',\n",
      "  'along', 'the', 'texas', 'gulf', 'coast', '.', 'the', 'plants', 'produce', 'only', 'basic', 'commodity',\n",
      "  'petrochemicals', 'that', 'are', 'the', 'building', 'blocks', 'of', 'specialty', 'products', '.', '\"', 'this', 'kind',\n",
      "  'of', 'commodity', 'chemical', 'business', 'will', 'never', 'be', 'a', 'glamorous', ',', 'high', '-', 'margin',\n",
      "  'business', ',\"', 'cain', 'said', ',', 'adding', 'that', 'demand', 'is', 'expected', 'to', 'grow', 'by', 'about',\n",
      "  'three', 'pct', 'annually', '.', 'garo', 'armen', ',', 'an', 'analyst', 'with', 'dean', 'witter', 'reynolds', ',',\n",
      "  'said', 'chemical', 'makers', 'have', 'also', 'benefitted', 'by', 'increasing', 'demand', 'for', 'plastics', 'as',\n",
      "  'prices', 'become', 'more', 'competitive', 'with', 'aluminum', ',', 'wood', 'and', 'steel', 'products', '.', 'armen',\n",
      "  'estimated', 'the', 'upturn', 'in', 'the', 'chemical', 'business', 'could', 'last', 'as', 'long', 'as', 'four', 'or',\n",
      "  'five', 'years', ',', 'provided', 'the', 'u', '.', 's', '.', 'economy', 'continues', 'its', 'modest', 'rate', 'of',\n",
      "  'growth', '.', '<END>']]\n"
     ]
    }
   ],
   "source": [
    "reuters_corpus = read_corpus()\n",
    "pprint.pprint(reuters_corpus[:2], compact=True, width=120)"
   ]
  },
  {
   "cell_type": "markdown",
   "metadata": {
    "colab_type": "text",
    "deletable": false,
    "editable": false,
    "id": "FqqAG-QZtp5z",
    "nbgrader": {
     "cell_type": "markdown",
     "checksum": "505c99dfd840196643182e7b607b147b",
     "grade": false,
     "grade_id": "cell-2ddc0b5a259ce062",
     "locked": true,
     "schema_version": 3,
     "solution": false,
     "task": false
    }
   },
   "source": [
    "### Question 1.1: Implement `distinct_words`\n",
    "\n",
    "Write a method to work out the distinct words (word types) that occur in the corpus"
   ]
  },
  {
   "cell_type": "code",
   "execution_count": 30,
   "metadata": {
    "colab": {},
    "colab_type": "code",
    "deletable": false,
    "id": "cCvxgzMhtp55",
    "nbgrader": {
     "cell_type": "code",
     "checksum": "39af0797c2efd17f1183e3656f0212f1",
     "grade": false,
     "grade_id": "cell-7480b68b9303ee9d",
     "locked": false,
     "schema_version": 3,
     "solution": true,
     "task": false
    }
   },
   "outputs": [],
   "source": [
    "def distinct_words(corpus):\n",
    "    \"\"\" Determine a list of distinct words for the corpus.\n",
    "        Params:\n",
    "            corpus (list of list of strings): corpus of documents.\n",
    "        Return:\n",
    "            corpus_words (list of strings): list of distinct words across the corpus, sorted (using python 'sorted' function)\n",
    "            num_corpus_words (integer): number of distinct words across the corpus.\n",
    "    \"\"\"\n",
    "    corpus_words = []\n",
    "    num_corpus_words = -1\n",
    "    \n",
    "    # -------------------------\n",
    "    # YOUR CODE HERE\n",
    "    # -------------------------\n",
    "    \n",
    "    all_words_in_corpus = []\n",
    "    # For each document (in corpus), adding it's words \n",
    "    for document in corpus:\n",
    "       all_words_in_corpus.extend([word for word in document])\n",
    "    \n",
    "    # Get unique words by converting to a set\n",
    "    unique_words = set(all_words_in_corpus)\n",
    "    # Convert set to list\n",
    "    unique_word_list = list(unique_words) \n",
    "    # Sorting list of words\n",
    "    corpus_words = sorted(unique_word_list)\n",
    "    # Number of distinct words is the list length \n",
    "    num_corpus_words = len(corpus_words)\n",
    "    # -------------------------\n",
    "    \n",
    "    return corpus_words, num_corpus_words \n",
    "\n",
    "    "
   ]
  },
  {
   "cell_type": "code",
   "execution_count": 31,
   "metadata": {
    "colab": {
     "base_uri": "https://localhost:8080/",
     "height": 346
    },
    "colab_type": "code",
    "deletable": false,
    "editable": false,
    "id": "j3627GTDtp5-",
    "nbgrader": {
     "cell_type": "code",
     "checksum": "b47910e740a47888cb7ebc67a6076a73",
     "grade": true,
     "grade_id": "cell-a512e07478b9d201",
     "locked": true,
     "points": 1,
     "schema_version": 3,
     "solution": false,
     "task": false
    },
    "outputId": "ae7102fe-c6c6-438e-ffd4-0ae8d0cdf5cf"
   },
   "outputs": [
    {
     "name": "stdout",
     "output_type": "stream",
     "text": [
      "--------------------------------------------------------------------------------\n",
      "Passed All Non Exhaustive Tests!\n",
      "--------------------------------------------------------------------------------\n"
     ]
    }
   ],
   "source": [
    "# ---------------------\n",
    "# Run this sanity check\n",
    "# Note that this not an exhaustive check for correctness.\n",
    "# ---------------------\n",
    "\n",
    "# Define toy corpus\n",
    "test_corpus = [\"<START> All that glitters isn't gold <END>\".split(\" \"), \"<START> All's well that ends well <END>\".split(\" \")]\n",
    "test_corpus_words, num_corpus_words = distinct_words(test_corpus)\n",
    "\n",
    "# Correct answers\n",
    "ans_test_corpus_words = sorted(list(set([\"<START>\", \"All\", \"ends\", \"that\", \"gold\", \"All's\", \"glitters\", \"isn't\", \"well\", \"<END>\"])))\n",
    "ans_num_corpus_words = len(ans_test_corpus_words)\n",
    "\n",
    "# Test correct number of words\n",
    "assert(num_corpus_words == ans_num_corpus_words), \"Incorrect number of distinct words. Correct: {}. Yours: {}\".format(ans_num_corpus_words, num_corpus_words)\n",
    "\n",
    "# Test correct words\n",
    "assert (test_corpus_words == ans_test_corpus_words), \"Incorrect corpus_words.\\nCorrect: {}\\nYours:   {}\".format(str(ans_test_corpus_words), str(test_corpus_words))\n",
    "\n",
    "# Print Success\n",
    "print (\"-\" * 80)\n",
    "print(\"Passed All Non Exhaustive Tests!\")\n",
    "print (\"-\" * 80)\n"
   ]
  },
  {
   "cell_type": "markdown",
   "metadata": {
    "colab_type": "text",
    "deletable": false,
    "editable": false,
    "id": "yEaK36Nktp6F",
    "nbgrader": {
     "cell_type": "markdown",
     "checksum": "1dcd4a9cc66efff8de2f1f10d6c44a1e",
     "grade": false,
     "grade_id": "cell-70de6c5df91684a1",
     "locked": true,
     "schema_version": 3,
     "solution": false,
     "task": false
    }
   },
   "source": [
    "### Question 1.2: Implement `compute_co_occurrence_matrix`\n",
    "\n",
    "Write a method that constructs a co-occurrence matrix for a certain window-size $n$ (with a default of 4), considering $n$ words before and $n$ words after the word in the center of the window. Here, we start to use `numpy (np)` to represent vectors, matrices, and tensors. If you're not familiar with NumPy, there's a NumPy tutorial in the second half of this cs231n [Python NumPy tutorial](http://cs231n.github.io/python-numpy-tutorial/).\n"
   ]
  },
  {
   "cell_type": "code",
   "execution_count": 76,
   "metadata": {
    "colab": {},
    "colab_type": "code",
    "deletable": false,
    "id": "nnD7trtwtp6H",
    "nbgrader": {
     "cell_type": "code",
     "checksum": "13c383af98c59c964cf01d1726b1e07c",
     "grade": false,
     "grade_id": "cell-0ef575c1a5db3b3a",
     "locked": false,
     "schema_version": 3,
     "solution": true,
     "task": false
    }
   },
   "outputs": [],
   "source": [
    " def compute_co_occurrence_matrix(corpus, window_size=4):\n",
    "    \"\"\" Compute co-occurrence matrix for the given corpus and window_size (default of 4).\n",
    "    \n",
    "        Note: Each word in a document should be at the center of a window. Words near edges will have a smaller\n",
    "              number of co-occurring words.\n",
    "              \n",
    "              For example, if we take the document \"<START> All that glitters is not gold <END>\" with window size of 4,\n",
    "              \"All\" will co-occur with \"<START>\", \"that\", \"glitters\", \"is\", and \"not\".\n",
    "    \n",
    "        Params:\n",
    "            corpus (list of list of strings): corpus of documents.\n",
    "            window_size (int): size of context window.\n",
    "        Return:\n",
    "            M (numpy matrix of shape (number of corpus words, number of corpus words)): \n",
    "                Co-occurence matrix of word counts. \n",
    "                The ordering of the words in the rows/columns should be the same as the ordering of the words given by the distinct_words function.\n",
    "            word2Ind (dict): dictionary that maps word to index (i.e. row/column number) for matrix M.\n",
    "    \"\"\"\n",
    "    words, num_words = distinct_words(corpus)\n",
    "    M = None\n",
    "    word2Ind = {}\n",
    "    \n",
    "    # -------------------------\n",
    "    # YOUR CODE HERE\n",
    "    \n",
    "    # Initializing the 'co-occurence matrix of word counts' with zeros\n",
    "    # as no words has been counted yet...\n",
    "    M = np.zeros((num_words, num_words))\n",
    "    \n",
    "    # Initializing the 'word2Ind' with indexes, for each word in the corpus \n",
    "    for i in range(num_words):\n",
    "        word2Ind[words[i]] = i\n",
    "\n",
    "    # Going over the documents in corpus\n",
    "    for document in corpus:\n",
    "        document_length = len(document)\n",
    "        # Going over the words in each document\n",
    "        for current_word_index in range(document_length):\n",
    "            \n",
    "            # Obtaining center word\n",
    "            center_word = document[current_word_index]\n",
    "            center_word_index = word2Ind[center_word]\n",
    "            \n",
    "            # Calculating window margins\n",
    "            left_boundry = max(current_word_index - window_size, 0)\n",
    "            right_boundry = min(current_word_index + window_size, document_length - 1)\n",
    "\n",
    "            # Going over all words in the window, besides center word, and updating counts\n",
    "            for window_word_index in range(left_boundry, right_boundry+1):\n",
    "                if current_word_index != window_word_index:\n",
    "                    window_word = document[window_word_index]                    \n",
    "                    M[center_word_index][word2Ind[window_word]] += 1                    \n",
    "\n",
    "    # -------------------------\n",
    "\n",
    "    return M, word2Ind"
   ]
  },
  {
   "cell_type": "code",
   "execution_count": 77,
   "metadata": {
    "colab": {},
    "colab_type": "code",
    "deletable": false,
    "editable": false,
    "id": "bncrZzH1tp6N",
    "nbgrader": {
     "cell_type": "code",
     "checksum": "5a28b6294ef7e85fa300f48d9c84d974",
     "grade": true,
     "grade_id": "cell-a384fdcf4f1e412c",
     "locked": true,
     "points": 2,
     "schema_version": 3,
     "solution": false,
     "task": false
    }
   },
   "outputs": [
    {
     "name": "stdout",
     "output_type": "stream",
     "text": [
      "--------------------------------------------------------------------------------\n",
      "Passed All Non Exhaustive Tests!\n",
      "--------------------------------------------------------------------------------\n"
     ]
    }
   ],
   "source": [
    "# ---------------------\n",
    "# Run this sanity check\n",
    "# Note that this is not an exhaustive check for correctness.\n",
    "# ---------------------\n",
    "\n",
    "# Define toy corpus and get student's co-occurrence matrix\n",
    "test_corpus = [\"<START> All that glitters isn't gold <END>\".split(\" \"), \"<START> All's well that ends well <END>\".split(\" \")]\n",
    "M_test, word2Ind_test = compute_co_occurrence_matrix(test_corpus, window_size=1)\n",
    "\n",
    "# Correct M and word2Ind\n",
    "M_test_ans = np.array( \n",
    "    [[0., 0., 0., 0., 0., 0., 1., 0., 0., 1.,],\n",
    "     [0., 0., 1., 1., 0., 0., 0., 0., 0., 0.,],\n",
    "     [0., 1., 0., 0., 0., 0., 0., 0., 1., 0.,],\n",
    "     [0., 1., 0., 0., 0., 0., 0., 0., 0., 1.,],\n",
    "     [0., 0., 0., 0., 0., 0., 0., 0., 1., 1.,],\n",
    "     [0., 0., 0., 0., 0., 0., 0., 1., 1., 0.,],\n",
    "     [1., 0., 0., 0., 0., 0., 0., 1., 0., 0.,],\n",
    "     [0., 0., 0., 0., 0., 1., 1., 0., 0., 0.,],\n",
    "     [0., 0., 1., 0., 1., 1., 0., 0., 0., 1.,],\n",
    "     [1., 0., 0., 1., 1., 0., 0., 0., 1., 0.,]]\n",
    ")\n",
    "\n",
    "word2Ind_ans = {END_TOKEN: 0, START_TOKEN: 1, 'All': 2, \"All's\": 3, 'ends': 4, 'glitters': 5, 'gold': 6, \"isn't\": 7, 'that': 8, 'well': 9}\n",
    "\n",
    "# Test correct word2Ind\n",
    "assert (word2Ind_ans == word2Ind_test), \"Your word2Ind is incorrect:\\nCorrect: {}\\nYours: {}\".format(word2Ind_ans, word2Ind_test)\n",
    "\n",
    "# Test correct M shape\n",
    "assert (M_test.shape == M_test_ans.shape), \"M matrix has incorrect shape.\\nCorrect: {}\\nYours: {}\".format(M_test.shape, M_test_ans.shape)\n",
    "\n",
    "# Test correct M values\n",
    "for w1 in word2Ind_ans.keys():\n",
    "    idx1 = word2Ind_ans[w1]\n",
    "    for w2 in word2Ind_ans.keys():\n",
    "        idx2 = word2Ind_ans[w2]\n",
    "        student = M_test[idx1, idx2]\n",
    "        correct = M_test_ans[idx1, idx2]\n",
    "        if student != correct:\n",
    "            print(\"Correct M:\")\n",
    "            print(M_test_ans)\n",
    "            print(\"Your M: \")\n",
    "            print(M_test)\n",
    "            raise AssertionError(\"Incorrect count at index ({}, {})=({}, {}) in matrix M. Yours has {} but should have {}.\".format(idx1, idx2, w1, w2, student, correct))\n",
    "\n",
    "# Print Success\n",
    "print (\"-\" * 80)\n",
    "print(\"Passed All Non Exhaustive Tests!\")\n",
    "print (\"-\" * 80)\n"
   ]
  },
  {
   "cell_type": "markdown",
   "metadata": {
    "colab_type": "text",
    "deletable": false,
    "editable": false,
    "id": "n8HeOXv3tp6T",
    "nbgrader": {
     "cell_type": "markdown",
     "checksum": "985d538766635d6ede49107c25518fff",
     "grade": false,
     "grade_id": "cell-891723f6518f8970",
     "locked": true,
     "schema_version": 3,
     "solution": false,
     "task": false
    }
   },
   "source": [
    "### Question 1.3: Implement `reduce_to_k_dim`\n",
    "\n",
    "Construct a method that performs dimensionality reduction on the matrix to produce k-dimensional embeddings. Use SVD to take the top k components and produce a new matrix of k-dimensional embeddings. \n",
    "\n",
    "**Note:** All of numpy, scipy, and scikit-learn (`sklearn`) provide *some* implementation of SVD, but only scipy and sklearn provide an implementation of Truncated SVD, and only sklearn provides an efficient randomized algorithm for calculating large-scale Truncated SVD. So please use [sklearn.decomposition.TruncatedSVD](https://scikit-learn.org/stable/modules/generated/sklearn.decomposition.TruncatedSVD.html)."
   ]
  },
  {
   "cell_type": "code",
   "execution_count": 80,
   "metadata": {
    "colab": {},
    "colab_type": "code",
    "deletable": false,
    "id": "5vLf7PFOtp6U",
    "nbgrader": {
     "cell_type": "code",
     "checksum": "6cddc656c5d36acc95de4bf8fc3a9900",
     "grade": false,
     "grade_id": "cell-482326805ffb177b",
     "locked": false,
     "schema_version": 3,
     "solution": true,
     "task": false
    }
   },
   "outputs": [],
   "source": [
    "def reduce_to_k_dim(M, k=2):\n",
    "    \"\"\" Reduce a co-occurence count matrix of dimensionality (num_corpus_words, num_corpus_words)\n",
    "        to a matrix of dimensionality (num_corpus_words, k) using the following SVD function from Scikit-Learn:\n",
    "            - http://scikit-learn.org/stable/modules/generated/sklearn.decomposition.TruncatedSVD.html\n",
    "    \n",
    "        Params:\n",
    "            M (numpy matrix of shape (number of corpus words, number of corpus words)): co-occurence matrix of word counts.\n",
    "            k (int): embedding size of each word after dimension reduction.\n",
    "        Return:\n",
    "            M_reduced (numpy matrix of shape (number of corpus words, k)): matrix of k-dimensioal word embeddings.\n",
    "                    In terms of the SVD from math class, this actually returns U * S.\n",
    "    \"\"\"    \n",
    "    n_iter = 10     # Use this parameter in your call to `TruncatedSVD`\n",
    "    M_reduced = None\n",
    "    print(\"Running Truncated SVD over %i words...\" % (M.shape[0]))\n",
    "    \n",
    "    # -------------------------\n",
    "    # YOUR CODE HERE\n",
    "    \n",
    "    from sklearn.decomposition import TruncatedSVD\n",
    "    svd = TruncatedSVD(n_components = k, n_iter = n_iter)\n",
    "    svd.fit(M)\n",
    "    M_reduced = svd.transform(M)\n",
    "    \n",
    "    # -------------------------\n",
    "\n",
    "    print(\"Done.\")\n",
    "    return M_reduced"
   ]
  },
  {
   "cell_type": "code",
   "execution_count": 81,
   "metadata": {
    "colab": {},
    "colab_type": "code",
    "deletable": false,
    "editable": false,
    "id": "e6PHoBVotp6c",
    "nbgrader": {
     "cell_type": "code",
     "checksum": "a56f42ec4961ac08b2268eb63c07f276",
     "grade": true,
     "grade_id": "cell-c8b6e13d4de1f46f",
     "locked": true,
     "points": 1,
     "schema_version": 3,
     "solution": false,
     "task": false
    }
   },
   "outputs": [
    {
     "name": "stdout",
     "output_type": "stream",
     "text": [
      "Running Truncated SVD over 10 words...\n",
      "Done.\n",
      "--------------------------------------------------------------------------------\n",
      "Passed All Tests!\n",
      "--------------------------------------------------------------------------------\n"
     ]
    }
   ],
   "source": [
    "# ---------------------\n",
    "# Run this sanity check\n",
    "# Note that this not an exhaustive check for correctness \n",
    "# In fact we only check that your M_reduced has the right dimensions.\n",
    "# ---------------------\n",
    "\n",
    "# Define toy corpus and run student code\n",
    "test_corpus = [\"<START> All that glitters isn't gold END\".split(\" \"), \"<START> All's well that ends well END\".split(\" \")]\n",
    "M_test, word2Ind_test = compute_co_occurrence_matrix(test_corpus, window_size=1)\n",
    "M_test_reduced = reduce_to_k_dim(M_test, k=2)\n",
    "\n",
    "# Test proper dimensions\n",
    "assert (M_test_reduced.shape[0] == 10), \"M_reduced has {} rows; should have {}\".format(M_test_reduced.shape[0], 10)\n",
    "assert (M_test_reduced.shape[1] == 2), \"M_reduced has {} columns; should have {}\".format(M_test_reduced.shape[1], 2)\n",
    "\n",
    "# Print Success\n",
    "print (\"-\" * 80)\n",
    "print(\"Passed All Tests!\")\n",
    "print (\"-\" * 80)"
   ]
  },
  {
   "cell_type": "markdown",
   "metadata": {
    "colab_type": "text",
    "deletable": false,
    "editable": false,
    "id": "Mt6-5KAhtp6h",
    "nbgrader": {
     "cell_type": "markdown",
     "checksum": "e82cb86c0546a3b073f0a6f7ecd364e7",
     "grade": false,
     "grade_id": "cell-2a65c0d81119eb21",
     "locked": true,
     "schema_version": 3,
     "solution": false,
     "task": false
    }
   },
   "source": [
    "### Question 1.4: Implement `plot_embeddings`\n",
    "\n",
    "Here you will write a function to plot a set of 2D vectors in 2D space. For graphs, we will use Matplotlib (`plt`).\n",
    "\n",
    "For this example, you may find it useful to adapt [this code](https://www.pythonmembers.club/2018/05/08/matplotlib-scatter-plot-annotate-set-text-at-label-each-point/). In the future, a good way to make a plot is to look at [the Matplotlib gallery](https://matplotlib.org/gallery/index.html), find a plot that looks somewhat like what you want, and adapt the code they give."
   ]
  },
  {
   "cell_type": "code",
   "execution_count": 104,
   "metadata": {
    "colab": {},
    "colab_type": "code",
    "deletable": false,
    "id": "9lUtwtkUtp6i",
    "nbgrader": {
     "cell_type": "code",
     "checksum": "13af7a535c509df08ff8e2a89d97c9cb",
     "grade": false,
     "grade_id": "cell-f2aee2af561ee342",
     "locked": false,
     "schema_version": 3,
     "solution": true,
     "task": false
    }
   },
   "outputs": [],
   "source": [
    "def plot_embeddings(M_reduced, word2Ind, words):\n",
    "    \"\"\" Plot in a scatterplot the embeddings of the words specified in the list \"words\".\n",
    "        NOTE: do not plot all the words listed in M_reduced / word2Ind.\n",
    "        Include a label next to each point.\n",
    "        \n",
    "        Params:\n",
    "            M_reduced (numpy matrix of shape (number of unique words in the corpus , k)): matrix of k-dimensioal word embeddings.\n",
    "            word2Ind (dict): dictionary that maps word to indices for matrix M.\n",
    "            words (list of strings): words whose embeddings we want to visualize.\n",
    "    \"\"\"\n",
    "\n",
    "    # -------------------------\n",
    "    # YOUR CODE HERE\n",
    "    \n",
    "    FACTOR = 0.001\n",
    "    FONT_SIZE = 14\n",
    "\n",
    "    words_index = [word2Ind[word] for word in words]\n",
    "\n",
    "    x_coords, y_coords = \\\n",
    "        [M_reduced[wi][0] for wi in words_index], \\\n",
    "        [M_reduced[wi][1] for wi in words_index]\n",
    "\n",
    "    for i, word in enumerate(words):\n",
    "        x, y = x_coords[i], y_coords[i]\n",
    "        plt.scatter(x, y, marker = 'x', color = 'red')\n",
    "        plt.text(x + FACTOR, y + FACTOR, word, fontsize = FONT_SIZE)\n",
    "    plt.show()\n",
    "    \n",
    "    # -------------------------"
   ]
  },
  {
   "cell_type": "code",
   "execution_count": 105,
   "metadata": {
    "colab": {},
    "colab_type": "code",
    "deletable": false,
    "id": "08yDpUvGtp6o",
    "nbgrader": {
     "cell_type": "code",
     "checksum": "30396ab44a6ba86338ce02eb7601b8ef",
     "grade": true,
     "grade_id": "cell-470215e2bdfd2e61",
     "locked": false,
     "points": 1,
     "schema_version": 3,
     "solution": true,
     "task": false
    }
   },
   "outputs": [
    {
     "name": "stdout",
     "output_type": "stream",
     "text": [
      "--------------------------------------------------------------------------------\n",
      "Outputted Plot:\n"
     ]
    },
    {
     "data": {
      "image/png": "[encoded data removed]",
      "text/plain": [
       "<Figure size 720x360 with 1 Axes>"
      ]
     },
     "metadata": {
      "needs_background": "light"
     },
     "output_type": "display_data"
    },
    {
     "name": "stdout",
     "output_type": "stream",
     "text": [
      "--------------------------------------------------------------------------------\n"
     ]
    }
   ],
   "source": [
    "# ---------------------\n",
    "# Run this sanity check\n",
    "# Note that this not an exhaustive check for correctness.\n",
    "# The plot produced should look like the \"test solution plot\" depicted below.\n",
    "# If it hasn't the exact same proportions or if the markers look a bit off, that's OK.\n",
    "# Generally, use your common sense here =)\n",
    "# ---------------------\n",
    "\n",
    "print (\"-\" * 80)\n",
    "print (\"Outputted Plot:\")\n",
    "\n",
    "M_reduced_plot_test = np.array([[1, 1], [-1, -1], [1, -1], [-1, 1], [0, 0]])\n",
    "word2Ind_plot_test = {'test1': 0, 'test2': 1, 'test3': 2, 'test4': 3, 'test5': 4}\n",
    "words = ['test1', 'test2', 'test3', 'test4', 'test5']\n",
    "plot_embeddings(M_reduced_plot_test, word2Ind_plot_test, words)\n",
    "\n",
    "print (\"-\" * 80)"
   ]
  },
  {
   "cell_type": "markdown",
   "metadata": {
    "colab_type": "text",
    "deletable": false,
    "editable": false,
    "id": "eGM_jip5tp6w",
    "nbgrader": {
     "cell_type": "markdown",
     "checksum": "33157c8689d85a86899af258b70d1a1f",
     "grade": false,
     "grade_id": "cell-8762f844575ed310",
     "locked": true,
     "schema_version": 3,
     "solution": false,
     "task": false
    }
   },
   "source": [
    "<font color=blue>**Test Plot Solution**</font>\n",
    "<br>\n",
    "<img src=\"https://i.imgur.com/TvHeoRJ.png\" width=40% style=\"float: left;\"> </img>\n"
   ]
  },
  {
   "cell_type": "markdown",
   "metadata": {
    "colab_type": "text",
    "deletable": false,
    "editable": false,
    "id": "pYvHFeiAtp6x",
    "nbgrader": {
     "cell_type": "markdown",
     "checksum": "f00b3edea4b8c61df91e77cb998d41d6",
     "grade": false,
     "grade_id": "cell-3f7ead90ce3a43af",
     "locked": true,
     "schema_version": 3,
     "solution": false,
     "task": false
    }
   },
   "source": [
    "### Question 1.5: Co-Occurrence Plot Analysis\n",
    "\n",
    "Now we will put together all the parts you have written! We will compute the co-occurrence matrix with fixed window of 4, over the Reuters \"crude\" corpus. Then we will use TruncatedSVD to compute 2-dimensional embeddings of each word. TruncatedSVD returns U\\*S, so we normalize the returned vectors, so that all the vectors will appear around the unit circle (therefore closeness is directional closeness). \n",
    "\n",
    "**Note**: The line of code below that does the normalizing uses the NumPy concept of *broadcasting*. If you don't know about broadcasting, check out\n",
    "[Computation on Arrays: Broadcasting by Jake VanderPlas](https://jakevdp.github.io/PythonDataScienceHandbook/02.05-computation-on-arrays-broadcasting.html).\n",
    "\n",
    "Run the below cell to produce the plot. It'll probably take a few seconds to run. What clusters together in 2-dimensional embedding space? What doesn't cluster together that you might think should have?\n",
    "\n",
    "**Note:** \"bpd\" stands for \"barrels per day\" and is a commonly used abbreviation in crude oil topic articles."
   ]
  },
  {
   "cell_type": "code",
   "execution_count": 106,
   "metadata": {
    "colab": {},
    "colab_type": "code",
    "deletable": false,
    "editable": false,
    "id": "6b6DGUBDtp6z",
    "nbgrader": {
     "cell_type": "code",
     "checksum": "7579005f4ee256f1746cbbf8e60bbaf1",
     "grade": false,
     "grade_id": "cell-f1bd76577f69d855",
     "locked": true,
     "schema_version": 3,
     "solution": false,
     "task": false
    }
   },
   "outputs": [
    {
     "name": "stdout",
     "output_type": "stream",
     "text": [
      "Running Truncated SVD over 8185 words...\n",
      "Done.\n"
     ]
    },
    {
     "data": {
      "image/png": "[encoded data removed]",
      "text/plain": [
       "<Figure size 720x360 with 1 Axes>"
      ]
     },
     "metadata": {
      "needs_background": "light"
     },
     "output_type": "display_data"
    }
   ],
   "source": [
    "# -----------------------------\n",
    "# Run This Cell to Produce Your Plot\n",
    "# ------------------------------\n",
    "reuters_corpus = read_corpus()\n",
    "M_co_occurrence, word2Ind_co_occurrence = compute_co_occurrence_matrix(reuters_corpus)\n",
    "M_reduced_co_occurrence = reduce_to_k_dim(M_co_occurrence, k=2)\n",
    "\n",
    "# Rescale (normalize) the rows to make them each of unit-length\n",
    "M_lengths = np.linalg.norm(M_reduced_co_occurrence, axis=1)\n",
    "M_normalized = M_reduced_co_occurrence / M_lengths[:, np.newaxis] # broadcasting\n",
    "\n",
    "words = ['barrels', 'bpd', 'ecuador', 'energy', 'industry', 'kuwait', 'oil', 'output', 'petroleum', 'venezuela']\n",
    "plot_embeddings(M_normalized, word2Ind_co_occurrence, words)"
   ]
  },
  {
   "cell_type": "markdown",
   "metadata": {
    "colab_type": "text",
    "deletable": false,
    "id": "RibAyGn3tp64",
    "nbgrader": {
     "cell_type": "markdown",
     "checksum": "ed58c21ad37107524644839561b43c56",
     "grade": true,
     "grade_id": "cell-fed2b7d84cb1d75f",
     "locked": false,
     "points": 2,
     "schema_version": 3,
     "solution": true,
     "task": false
    }
   },
   "source": [
    "**WRITE YOUR ANSWER IN THIS CELL**\n",
    "The countries {equador, venezuela} are close to each other, and it makes sense, because in our context they play similiar roles in terms of oil manufacturing.\n",
    "We'd expact {bpd, barrels and output} which have almost the same semantic meaning and are exchangable to be closer.\n",
    "Nonetheless, petroleum isn't clustered with oil, despite of being synonyms."
   ]
  },
  {
   "cell_type": "markdown",
   "metadata": {
    "colab_type": "text",
    "deletable": false,
    "editable": false,
    "id": "0IbYT5Igtp67",
    "nbgrader": {
     "cell_type": "markdown",
     "checksum": "dedeb5088b3805ee6149a49e9c070d06",
     "grade": false,
     "grade_id": "cell-9d39df26909c2f8c",
     "locked": true,
     "schema_version": 3,
     "solution": false,
     "task": false
    }
   },
   "source": [
    "## Part 2: Prediction-Based Word Vectors\n",
    "\n",
    "As discussed in class, more recently prediction-based word vectors have come into fashion, e.g. word2vec. Now, having implemented your own version of word2vec, consider challenging yourselves by reading the [original paper](https://papers.nips.cc/paper/5021-distributed-representations-of-words-and-phrases-and-their-compositionality.pdf). Here, we shall explore the embeddings produced by word2vec. We will use embeddings that were already computed for us, not the embeddings we prepared ourselves in question 2 of this assignment.\n",
    "\n",
    "Run the following cells to load the word2vec vectors into memory.  \n",
    "**Note**: This might take several minutes."
   ]
  },
  {
   "cell_type": "code",
   "execution_count": 97,
   "metadata": {
    "colab": {},
    "colab_type": "code",
    "deletable": false,
    "editable": false,
    "id": "htdHKGbMtp69",
    "nbgrader": {
     "cell_type": "code",
     "checksum": "3f46e4e535a2948c6bc5bbe6c5c4072e",
     "grade": false,
     "grade_id": "cell-bda6808a91739689",
     "locked": true,
     "schema_version": 3,
     "solution": false,
     "task": false
    }
   },
   "outputs": [],
   "source": [
    "def load_word2vec():\n",
    "    \"\"\" Load Word2Vec Vectors\n",
    "        Return:\n",
    "            wv_from_bin: All 3 million embeddings, each lengh 300.\n",
    "    \"\"\"\n",
    "    import gensim.downloader as api\n",
    "    wv_from_bin = api.load(\"word2vec-google-news-300\")\n",
    "    vocab = list(wv_from_bin.vocab.keys())\n",
    "    print(\"Loaded vocab size %i\" % len(vocab))\n",
    "    return wv_from_bin"
   ]
  },
  {
   "cell_type": "code",
   "execution_count": 98,
   "metadata": {
    "colab": {},
    "colab_type": "code",
    "deletable": false,
    "editable": false,
    "id": "__K0EgHKtp7C",
    "nbgrader": {
     "cell_type": "code",
     "checksum": "aa3667d0deee0c2d35336af214afb96b",
     "grade": false,
     "grade_id": "cell-e135e5c7d036965c",
     "locked": true,
     "schema_version": 3,
     "solution": false,
     "task": false
    }
   },
   "outputs": [
    {
     "name": "stdout",
     "output_type": "stream",
     "text": [
      "Loaded vocab size 3000000\n"
     ]
    }
   ],
   "source": [
    "# -----------------------------------\n",
    "# Run Cell to Load Word Vectors\n",
    "# Note: This may take several minutes\n",
    "# If you are getting the following message, it is OK:\n",
    "# \"/usr/local/lib/python3.6/dist-packages/smart_open/smart_open_lib.py:398: UserWarning: This function is deprecated, use smart_open.open instead. See the migration notes for details: https://github.com/RaRe-Technologies/smart_open/blob/master/README.rst#migrating-to-the-new-open-function\n",
    "#  'See the migration notes for details: %s' % _MIGRATION_NOTES_URL\"\n",
    "# -----------------------------------\n",
    "wv_from_bin = load_word2vec()"
   ]
  },
  {
   "cell_type": "markdown",
   "metadata": {
    "colab_type": "text",
    "deletable": false,
    "editable": false,
    "id": "aoHzrH8Qtp7K",
    "nbgrader": {
     "cell_type": "markdown",
     "checksum": "fc7bbc153640684589d0468b4f999a48",
     "grade": false,
     "grade_id": "cell-7445f2c1d04f62dd",
     "locked": true,
     "schema_version": 3,
     "solution": false,
     "task": false
    }
   },
   "source": [
    "### Reducing dimensionality of Word2Vec Word Embeddings\n",
    "\n",
    "Let's directly compare the word2vec embeddings to those of the co-occurrence matrix. Run the following cells to:\n",
    "\n",
    "1. Put 10,000 of the 3 million word2vec vectors into a matrix M.\n",
    "2. Run reduce_to_k_dim (your Truncated SVD function) to reduce the vectors from 300-dimensional to 2-dimensional."
   ]
  },
  {
   "cell_type": "code",
   "execution_count": 99,
   "metadata": {
    "colab": {},
    "colab_type": "code",
    "deletable": false,
    "editable": false,
    "id": "sMLWjaU3tp7L",
    "nbgrader": {
     "cell_type": "code",
     "checksum": "010c9d16d402aff66f1c797ce466db1a",
     "grade": false,
     "grade_id": "cell-3488b1d7df5be277",
     "locked": true,
     "schema_version": 3,
     "solution": false,
     "task": false
    }
   },
   "outputs": [],
   "source": [
    "def get_matrix_of_vectors(wv_from_bin, required_words=['barrels', 'bpd', 'ecuador', 'energy', 'industry', 'kuwait', 'oil', 'output', 'petroleum', 'venezuela']):\n",
    "    \"\"\" Put the word2vec vectors into a matrix M.\n",
    "        Param:\n",
    "            wv_from_bin: KeyedVectors object; the 3 million word2vec vectors loaded from file.\n",
    "        Return:\n",
    "            M: numpy matrix shape (num words, 300) containing the vectors.\n",
    "            word2Ind: dictionary mapping each word to its row number in M.\n",
    "    \"\"\"\n",
    "    import random\n",
    "    words = list(wv_from_bin.vocab.keys())\n",
    "    print(\"Shuffling words ...\")\n",
    "    random.shuffle(words)\n",
    "    words = words[:10000]\n",
    "    print(\"Putting %i words into word2Ind and matrix M...\" % len(words))\n",
    "    word2Ind = {}\n",
    "    M = []\n",
    "    curInd = 0\n",
    "    for w in words:\n",
    "        try:\n",
    "            M.append(wv_from_bin.word_vec(w))\n",
    "            word2Ind[w] = curInd\n",
    "            curInd += 1\n",
    "        except KeyError:\n",
    "            continue\n",
    "    for w in required_words:\n",
    "        try:\n",
    "            M.append(wv_from_bin.word_vec(w))\n",
    "            word2Ind[w] = curInd\n",
    "            curInd += 1\n",
    "        except KeyError:\n",
    "            continue\n",
    "    M = np.stack(M)\n",
    "    print(\"Done.\")\n",
    "    return M, word2Ind"
   ]
  },
  {
   "cell_type": "code",
   "execution_count": 100,
   "metadata": {
    "colab": {},
    "colab_type": "code",
    "deletable": false,
    "editable": false,
    "id": "3D9RtkXutp7Q",
    "nbgrader": {
     "cell_type": "code",
     "checksum": "b5471b77261f6ba5a17e825122fb5ac5",
     "grade": false,
     "grade_id": "cell-ad483d58bdd579c2",
     "locked": true,
     "schema_version": 3,
     "solution": false,
     "task": false
    }
   },
   "outputs": [
    {
     "name": "stdout",
     "output_type": "stream",
     "text": [
      "Shuffling words ...\n",
      "Putting 10000 words into word2Ind and matrix M...\n",
      "Done.\n",
      "Running Truncated SVD over 10010 words...\n",
      "Done.\n"
     ]
    }
   ],
   "source": [
    "# -----------------------------------------------------------------\n",
    "# Run Cell to Reduce 300-Dimensinal Word Embeddings to k Dimensions\n",
    "# -----------------------------------------------------------------\n",
    "M, word2Ind = get_matrix_of_vectors(wv_from_bin)\n",
    "M_reduced = reduce_to_k_dim(M, k=2)"
   ]
  },
  {
   "cell_type": "markdown",
   "metadata": {
    "colab_type": "text",
    "deletable": false,
    "editable": false,
    "id": "iJaScEDmtp7W",
    "nbgrader": {
     "cell_type": "markdown",
     "checksum": "04a1f5efe43c545dbf2a593437481148",
     "grade": false,
     "grade_id": "cell-4b68bc6a15aebe79",
     "locked": true,
     "schema_version": 3,
     "solution": false,
     "task": false
    }
   },
   "source": [
    "### Question 2.1: Word2Vec Plot Analysis\n",
    "\n",
    "Run the cell below to plot the 2D word2vec embeddings for `['barrels', 'bpd', 'ecuador', 'energy', 'industry', 'kuwait', 'oil', 'output', 'petroleum', 'venezuela']`.\n",
    "\n",
    "What clusters together in 2-dimensional embedding space? What doesn't cluster together that you might think should have? How is the plot different from the one generated earlier from the co-occurrence matrix?"
   ]
  },
  {
   "cell_type": "code",
   "execution_count": 101,
   "metadata": {
    "colab": {},
    "colab_type": "code",
    "deletable": false,
    "editable": false,
    "id": "YfTEwGO6tp7Y",
    "nbgrader": {
     "cell_type": "code",
     "checksum": "fbe35ba82f7dc2712e0be4b4786e33ec",
     "grade": false,
     "grade_id": "cell-4e928d266bcdeb72",
     "locked": true,
     "schema_version": 3,
     "solution": false,
     "task": false
    }
   },
   "outputs": [
    {
     "data": {
      "image/png": "[encoded data removed]",
      "text/plain": [
       "<Figure size 720x360 with 1 Axes>"
      ]
     },
     "metadata": {
      "needs_background": "light"
     },
     "output_type": "display_data"
    }
   ],
   "source": [
    "words = ['barrels', 'bpd', 'ecuador', 'energy', 'industry', 'kuwait', 'oil', 'output', 'petroleum', 'venezuela']\n",
    "plot_embeddings(M_reduced, word2Ind, words)"
   ]
  },
  {
   "cell_type": "markdown",
   "metadata": {
    "colab_type": "text",
    "deletable": false,
    "id": "Ccv747bjtp7c",
    "nbgrader": {
     "cell_type": "markdown",
     "checksum": "3eaea2ff7193106799a9681a4e1ca5c1",
     "grade": true,
     "grade_id": "cell-ea26428636223afa",
     "locked": false,
     "points": 1,
     "schema_version": 3,
     "solution": true,
     "task": false
    }
   },
   "source": [
    "**WRITE YOUR ANSWER IN THIS CELL**\n",
    "The points it this plot form two cureves versus in the last plot (1.5) which has been only one curve.\n",
    "Moreover, this plot is decending whereas the las one is ascending.\n",
    "\n",
    "The words {energy, industry} appear together in both algorithms; possible reason is that they are used in the same context in the oil-industry documents and also in other general documents.\n",
    "\n",
    "Thw words {oil, petroleum} are closer to each other than in 1.5; the reason is that these words are considered a synonyms in a variety of documents. But the 'crude' documents from question 1 differentiates between these two words (they are less likely to appear in the same context).\n",
    " \n",
    "On the other hand, the countries {venezuela, ecuador} appear far from each other in the chart. This is because the word2vec embeddings were not trained on an 'crude' corpus, and there are differences between the countries."
   ]
  },
  {
   "cell_type": "markdown",
   "metadata": {
    "colab_type": "text",
    "deletable": false,
    "editable": false,
    "id": "dPqlcUbmtp7e",
    "nbgrader": {
     "cell_type": "markdown",
     "checksum": "e3f19b195c6981c62d46d552a4f68af7",
     "grade": false,
     "grade_id": "cell-3efbe1dc509dd432",
     "locked": true,
     "schema_version": 3,
     "solution": false,
     "task": false
    }
   },
   "source": [
    "### Cosine Similarity\n",
    "Now that we have word vectors, we need a way to quantify the similarity between individual words, according to these vectors. One such metric is cosine-similarity. We will be using this to find words that are \"close\" and \"far\" from one another.\n",
    "\n",
    "We can think of n-dimensional vectors as points in an n-dimensional space. If we take this perspective L1 and L2 Distances help quantify the amount of space \"we must travel\" to get between these two points. Another approach is to examine the angle between two vectors. From trigonometry we know that:\n",
    "\n",
    "<img src=\"https://i.imgur.com/D4a8vnr.png\" width=20% style=\"float: center;\"></img>\n",
    "\n",
    "Instead of computing the actual angle, we can leave the similarity in terms of $similarity = cos(\\Theta)$. Formally the [Cosine Similarity](https://en.wikipedia.org/wiki/Cosine_similarity) $s$ between two vectors $p$ and $q$ is defined as:\n",
    "\n",
    "$$s = \\frac{p \\cdot q}{||p|| ||q||}, \\textrm{ where } s \\in [-1, 1] $$ "
   ]
  },
  {
   "cell_type": "markdown",
   "metadata": {
    "colab_type": "text",
    "deletable": false,
    "editable": false,
    "id": "DimPWB3Otp7h",
    "nbgrader": {
     "cell_type": "markdown",
     "checksum": "29a59cc8ae10325b99649ec29c822193",
     "grade": false,
     "grade_id": "cell-abcb6bf5d941872f",
     "locked": true,
     "schema_version": 3,
     "solution": false,
     "task": false
    }
   },
   "source": [
    "### Question 2.2: Polysemous Words\n",
    "Find a [polysemous](https://en.wikipedia.org/wiki/Polysemy) word (for example, \"leaves\" or \"scoop\") such that the top-10 most similar words (according to cosine similarity) contains related words from **both** meanings. For example, \"leaves\" has both \"vanishes\" and \"[stalks](https://en.wiktionary.org/wiki/stalk#Noun)\" in the top 10, and \"scoop\" has both \"handed_waffle_cone\" and \"lowdown\". You will probably need to try several polysemous words before you find one. Please state the polysemous word you discover and the multiple meanings that occur in the top 10. Why do you think many of the polysemous words you tried didn't work?\n",
    "\n",
    "**Note**: You should use the `wv_from_bin.most_similar(word)` function to get the top 10 similar words. This function ranks all other words in the vocabulary with respect to their cosine similarity to the given word. For further assistance please check the __[GenSim documentation](https://radimrehurek.com/gensim/models/keyedvectors.html#gensim.models.keyedvectors.FastTextKeyedVectors.most_similar)__."
   ]
  },
  {
   "cell_type": "code",
   "execution_count": 114,
   "metadata": {
    "colab": {},
    "colab_type": "code",
    "id": "ARtT8xj5tp7j"
   },
   "outputs": [
    {
     "data": {
      "text/plain": [
       "[('statewide', 0.5794690847396851),\n",
       " ('thestate', 0.5723356008529663),\n",
       " ('district', 0.54634690284729),\n",
       " ('State', 0.5446770191192627),\n",
       " ('county', 0.5432934761047363),\n",
       " ('Legislature', 0.5160354375839233),\n",
       " ('districts', 0.5100605487823486),\n",
       " ('federal', 0.503481924533844),\n",
       " ('commonwealth', 0.5022697448730469),\n",
       " ('stateís', 0.4989703893661499)]"
      ]
     },
     "execution_count": 114,
     "metadata": {},
     "output_type": "execute_result"
    }
   ],
   "source": [
    "# ------------------\n",
    "# Write your polysemous word exploration code here.\n",
    "\n",
    "wv_from_bin.most_similar(\"mole\")\n",
    "\n",
    "# ------------------"
   ]
  },
  {
   "cell_type": "markdown",
   "metadata": {
    "colab_type": "text",
    "deletable": false,
    "id": "2ViwO4bytp7o",
    "nbgrader": {
     "cell_type": "markdown",
     "checksum": "64233ef51d66eae1f777955e18d0929f",
     "grade": true,
     "grade_id": "cell-daddcf4bdd470861",
     "locked": false,
     "points": 3,
     "schema_version": 3,
     "solution": true,
     "task": false
    }
   },
   "source": [
    "**WRITE YOUR ANSWER IN THIS CELL**\n",
    "We found the word 'mole' which both means 'freckle' or in the context of 'cancerous_mole' and also used to describe 'spies'.\n",
    "For other words their polysemous words are less common or relativly less proximate in text, so we hadn't seen them in the top ten.\n"
   ]
  },
  {
   "cell_type": "markdown",
   "metadata": {
    "colab_type": "text",
    "deletable": false,
    "editable": false,
    "id": "nKQMiStHtp7p",
    "nbgrader": {
     "cell_type": "markdown",
     "checksum": "efe18c05708edbcb6500753576f4a68a",
     "grade": false,
     "grade_id": "cell-1a15647ed1c86e1d",
     "locked": true,
     "schema_version": 3,
     "solution": false,
     "task": false
    }
   },
   "source": [
    "### Question 2.3: Synonyms & Antonyms\n",
    "\n",
    "When considering Cosine Similarity, it's often more convenient to think of Cosine Distance, which is simply 1 - Cosine Similarity.\n",
    "\n",
    "Find three words (w1,w2,w3) where w1 and w2 are synonyms and w1 and w3 are antonyms, but Cosine Distance(w1,w3) < Cosine Distance(w1,w2). For example, w1=\"happy\" is closer to antonym w3=\"sad\" than to synonym w2=\"cheerful\". \n",
    "\n",
    "Once you have found your example, please give a possible explanation for why this counter-intuitive result may have happened.\n",
    "\n",
    "You should use the the `wv_from_bin.distance(w1, w2)` function here in order to compute the cosine distance between two words. Please see the __[GenSim documentation](https://radimrehurek.com/gensim/models/keyedvectors.html#gensim.models.keyedvectors.FastTextKeyedVectors.distance)__ for further assistance."
   ]
  },
  {
   "cell_type": "code",
   "execution_count": 124,
   "metadata": {
    "colab": {},
    "colab_type": "code",
    "id": "4961azvptp7q"
   },
   "outputs": [
    {
     "name": "stdout",
     "output_type": "stream",
     "text": [
      "Synonyms \"friend\", \"ally\" have cosine distance: 0.566796064376831\n",
      "Antonyms \"friend\", \"enemy\" have cosine distance: 0.7228574752807617\n"
     ]
    }
   ],
   "source": [
    "# ------------------\n",
    "# Write your synonym & antonym exploration code here.\n",
    "\n",
    "w1 = \"friend\"\n",
    "w2 = \"ally\"\n",
    "w3 = \"enemy\"\n",
    "w1_w2_dist = wv_from_bin.distance(w1, w2)\n",
    "w1_w3_dist = wv_from_bin.distance(w1, w3)\n",
    "\n",
    "print(\"Synonyms \\\"{}\\\", \\\"{}\\\" have cosine distance: {}\".format(w1, w2, w1_w2_dist))\n",
    "print(\"Antonyms \\\"{}\\\", \\\"{}\\\" have cosine distance: {}\".format(w1, w3, w1_w3_dist))\n",
    "\n",
    "# ------------------"
   ]
  },
  {
   "cell_type": "markdown",
   "metadata": {
    "colab_type": "text",
    "deletable": false,
    "id": "vsx5_LCRtp7u",
    "nbgrader": {
     "cell_type": "markdown",
     "checksum": "ceccd3276b92cef48d997b303f774784",
     "grade": true,
     "grade_id": "cell-4407dd8a99e90e66",
     "locked": false,
     "points": 2,
     "schema_version": 3,
     "solution": true,
     "task": false
    }
   },
   "source": [
    "**WRITE YOUR ANSWER IN THIS CELL**\n",
    "The cosine-distance between the antonyms {friend, enemy} is smaller than in the synonyms {friend, ally}; as the antonyms appear more proximate to each other in texts, however, the words {friend, ally} aren't often to appear together."
   ]
  },
  {
   "cell_type": "markdown",
   "metadata": {
    "colab_type": "text",
    "deletable": false,
    "editable": false,
    "id": "xzWTtuzstp7v",
    "nbgrader": {
     "cell_type": "markdown",
     "checksum": "ee07755604a1052f0cedd6def44abc47",
     "grade": false,
     "grade_id": "cell-042f2ea9f03914e4",
     "locked": true,
     "schema_version": 3,
     "solution": false,
     "task": false
    }
   },
   "source": [
    "### Solving Analogies with Word Vectors\n",
    "Word2Vec vectors have been shown to *sometimes* exhibit the ability to solve analogies. \n",
    "\n",
    "As an example, for the analogy \"man : king :: woman : y\", what is y?\n",
    "\n",
    "In the cell below, we show you how to use word vectors to find y. The `most_similar` function finds words that are most similar to the words in the `positive` list and most dissimilar from the words in the `negative` list. The answer to the analogy will be the word ranked most similar (largest numerical value).\n",
    "\n",
    "**Note:** Further Documentation on the `most_similar` function can be found within the __[GenSim documentation](https://radimrehurek.com/gensim/models/keyedvectors.html#gensim.models.keyedvectors.FastTextKeyedVectors.most_similar)__."
   ]
  },
  {
   "cell_type": "code",
   "execution_count": 125,
   "metadata": {
    "colab": {},
    "colab_type": "code",
    "deletable": false,
    "editable": false,
    "id": "kcS6Sn3ctp7x",
    "nbgrader": {
     "cell_type": "code",
     "checksum": "911a42cbdc762a654f36b237f81b30fd",
     "grade": false,
     "grade_id": "cell-4d3d0475a978578a",
     "locked": true,
     "schema_version": 3,
     "solution": false,
     "task": false
    }
   },
   "outputs": [
    {
     "name": "stdout",
     "output_type": "stream",
     "text": [
      "[('queen', 0.7118192911148071),\n",
      " ('monarch', 0.6189674139022827),\n",
      " ('princess', 0.5902431607246399),\n",
      " ('crown_prince', 0.5499460697174072),\n",
      " ('prince', 0.5377321243286133),\n",
      " ('kings', 0.5236844420433044),\n",
      " ('Queen_Consort', 0.5235945582389832),\n",
      " ('queens', 0.5181134343147278),\n",
      " ('sultan', 0.5098593235015869),\n",
      " ('monarchy', 0.5087411999702454)]\n"
     ]
    }
   ],
   "source": [
    "# Run this cell to answer the analogy -- man : king :: woman : ?\n",
    "pprint.pprint(wv_from_bin.most_similar(positive=['woman', 'king'], negative=['man']))"
   ]
  },
  {
   "cell_type": "markdown",
   "metadata": {
    "colab_type": "text",
    "deletable": false,
    "editable": false,
    "id": "Q_-Fty4Ntp75",
    "nbgrader": {
     "cell_type": "markdown",
     "checksum": "b6779830f4ca15c872a4678d5f4cf347",
     "grade": false,
     "grade_id": "cell-0c69df05bdc3066b",
     "locked": true,
     "schema_version": 3,
     "solution": false,
     "task": false
    }
   },
   "source": [
    "### Question 2.4: Finding Analogies\n",
    "Find an example of an analogy that holds (i.e. the intended word is ranked top according to these vectors (`wv_from_bin`). In your solution please state the full analogy in the form a:b :: x:y. If you believe the analogy is complicated explain why the analogy holds in one or two sentences.\n",
    "\n",
    "**Note**: You may have to try many analogies to find one that works! Try learning some properties of the word vectors from your unsuccessful attempts."
   ]
  },
  {
   "cell_type": "code",
   "execution_count": 133,
   "metadata": {
    "colab": {},
    "colab_type": "code",
    "id": "hQHgfcwCtp75"
   },
   "outputs": [
    {
     "name": "stdout",
     "output_type": "stream",
     "text": [
      "[('her', 0.8093730211257935),\n",
      " ('Her', 0.6147782802581787),\n",
      " ('my', 0.6075835227966309),\n",
      " ('His', 0.5774028301239014),\n",
      " ('herself', 0.5670921802520752),\n",
      " ('she', 0.5415224432945251),\n",
      " ('him', 0.5350818037986755),\n",
      " ('he', 0.5118668675422668),\n",
      " ('hers', 0.5049200654029846),\n",
      " ('himself', 0.4891963601112366)]\n"
     ]
    }
   ],
   "source": [
    "# ------------------\n",
    "# Write your analogy exploration code here.\n",
    "\n",
    "pprint.pprint(wv_from_bin.most_similar(positive=['girl', 'his'], negative=['boy']))\n",
    "\n",
    "# ------------------"
   ]
  },
  {
   "cell_type": "markdown",
   "metadata": {
    "colab_type": "text",
    "deletable": false,
    "id": "WSF5Vykytp7-",
    "nbgrader": {
     "cell_type": "markdown",
     "checksum": "0da1850fdac7b9f4eb57450ec8c62897",
     "grade": true,
     "grade_id": "cell-d39edcba5f36d037",
     "locked": false,
     "points": 1,
     "schema_version": 3,
     "solution": true,
     "task": false
    }
   },
   "source": [
    "**WRITE YOUR ANSWER IN THIS CELL**\n",
    "boy : his :: girl : her"
   ]
  },
  {
   "cell_type": "markdown",
   "metadata": {
    "colab_type": "text",
    "deletable": false,
    "editable": false,
    "id": "qEwo-S1Ttp7_",
    "nbgrader": {
     "cell_type": "markdown",
     "checksum": "38c4d4ef496f29be96e6af23fe73904f",
     "grade": false,
     "grade_id": "cell-f302c3fd7e8f390d",
     "locked": true,
     "schema_version": 3,
     "solution": false,
     "task": false
    }
   },
   "source": [
    "### Question 2.5: Incorrect Analogy\n",
    "Find an example of an analogy that does *not* hold according to these vectors. In your solution, state the intended analogy in the form a:b :: x:y, and state the (incorrect) value of b according to the word vectors."
   ]
  },
  {
   "cell_type": "code",
   "execution_count": 134,
   "metadata": {
    "colab": {},
    "colab_type": "code",
    "id": "FggV_IzRtp8B"
   },
   "outputs": [
    {
     "name": "stdout",
     "output_type": "stream",
     "text": [
      "[('floral', 0.5532568693161011),\n",
      " ('marigold', 0.5291938185691833),\n",
      " ('tulip', 0.521312952041626),\n",
      " ('rooted_cuttings', 0.5189826488494873),\n",
      " ('variegation', 0.5136324763298035),\n",
      " ('Asiatic_lilies', 0.5132641792297363),\n",
      " ('gerberas', 0.5106234550476074),\n",
      " ('gerbera_daisies', 0.5101010203361511),\n",
      " ('Verbena_bonariensis', 0.5070016980171204),\n",
      " ('violet', 0.5058108568191528)]\n"
     ]
    }
   ],
   "source": [
    "# ------------------\n",
    "# Write your incorrect analogy exploration code here.\n",
    "\n",
    "pprint.pprint(wv_from_bin.most_similar(positive=['flower', 'leaf'], negative=['tree']))\n",
    "\n",
    "# ------------------"
   ]
  },
  {
   "cell_type": "markdown",
   "metadata": {
    "colab_type": "text",
    "deletable": false,
    "id": "SzjLjoqhtp8F",
    "nbgrader": {
     "cell_type": "markdown",
     "checksum": "175c71aad7d9b7e52fcfeaed00b807c0",
     "grade": true,
     "grade_id": "cell-708e078d599a457c",
     "locked": false,
     "points": 1,
     "schema_version": 3,
     "solution": true,
     "task": false
    }
   },
   "source": [
    "**WRITE YOUR ANSWER IN THIS CELL**\n",
    "tree : leaf :: flower : petal\n",
    "\n",
    "The word 'petal' dosen't appear in the top 10"
   ]
  },
  {
   "cell_type": "markdown",
   "metadata": {
    "colab_type": "text",
    "deletable": false,
    "editable": false,
    "id": "vGghcs28tp8G",
    "nbgrader": {
     "cell_type": "markdown",
     "checksum": "fdddacfba4af4a488d1a1943e4122af1",
     "grade": false,
     "grade_id": "cell-1f6e1ec8bf9e2738",
     "locked": true,
     "schema_version": 3,
     "solution": false,
     "task": false
    }
   },
   "source": [
    "### Question 2.6: Bias in Word Vectors\n",
    "\n",
    "Implicit Biases (regarding gender, race, sexual orientation etc.) in word vectors is an [interesting](https://papers.nips.cc/paper/6228-man-is-to-computer-programmer-as-woman-is-to-homemaker-debiasing-word-embeddings) [and](https://arxiv.org/abs/1810.03611) [hot](https://arxiv.org/abs/1812.08769) [research](https://www.aclweb.org/anthology/S19-1010/) [topic](https://www.aclweb.org/anthology/N19-1064/).\n",
    "\n",
    "To get a little glimpse, run the cell below to examine (a) which terms are most similar to \"woman\" and \"doctor\" and most dissimilar to \"man\", and (b) which terms are most similar to \"man\" and \"doctor\" and most dissimilar to \"woman\". What do you find in the top 10?"
   ]
  },
  {
   "cell_type": "code",
   "execution_count": 135,
   "metadata": {
    "colab": {},
    "colab_type": "code",
    "deletable": false,
    "editable": false,
    "id": "Q1aXEB64tp8H",
    "nbgrader": {
     "cell_type": "code",
     "checksum": "282bbb42cea9b02604ab37817ce3adfa",
     "grade": false,
     "grade_id": "cell-6b9c87407c67ebfa",
     "locked": true,
     "schema_version": 3,
     "solution": false,
     "task": false
    }
   },
   "outputs": [
    {
     "name": "stdout",
     "output_type": "stream",
     "text": [
      "\u001b[1m Trying to solve \"man:doctor :: woman:? \u001b[0m\n",
      "\u001b[1m \"man\" is to \"doctor\" what \"woman\" is for: \u001b[0m\n",
      "[('gynecologist', 0.7093892097473145),\n",
      " ('nurse', 0.647728681564331),\n",
      " ('doctors', 0.6471461057662964),\n",
      " ('physician', 0.64389967918396),\n",
      " ('pediatrician', 0.6249487996101379),\n",
      " ('nurse_practitioner', 0.6218312978744507),\n",
      " ('obstetrician', 0.6072014570236206),\n",
      " ('ob_gyn', 0.5986712574958801),\n",
      " ('midwife', 0.5927063226699829),\n",
      " ('dermatologist', 0.5739566683769226)]\n",
      "\n",
      "\u001b[1m Trying to solve \"woman:doctor :: man:? \u001b[0m\n",
      "\u001b[1m \"woman\" is to \"doctor\" what \"man\" is for: \u001b[0m\n",
      "[('physician', 0.6463665962219238),\n",
      " ('doctors', 0.5858404040336609),\n",
      " ('surgeon', 0.5723941326141357),\n",
      " ('dentist', 0.552364706993103),\n",
      " ('cardiologist', 0.5413815975189209),\n",
      " ('neurologist', 0.5271126627922058),\n",
      " ('neurosurgeon', 0.5249835848808289),\n",
      " ('urologist', 0.5247740149497986),\n",
      " ('Doctor', 0.5240625143051147),\n",
      " ('internist', 0.5183224081993103)]\n"
     ]
    }
   ],
   "source": [
    "# Run this cell\n",
    "# Here `positive` indicates the list of words to be similar to and `negative` indicates the list of words to be\n",
    "# most dissimilar from.\n",
    "print('\\033[1m Trying to solve \"man:doctor :: woman:? \\033[0m')\n",
    "print('\\033[1m \"man\" is to \"doctor\" what \"woman\" is for: \\033[0m')\n",
    "pprint.pprint(wv_from_bin.most_similar(positive=['woman', 'doctor'], negative=['man']))\n",
    "print()\n",
    "print('\\033[1m Trying to solve \"woman:doctor :: man:? \\033[0m')\n",
    "print('\\033[1m \"woman\" is to \"doctor\" what \"man\" is for: \\033[0m')\n",
    "pprint.pprint(wv_from_bin.most_similar(positive=['man', 'doctor'], negative=['woman']))"
   ]
  },
  {
   "cell_type": "markdown",
   "metadata": {
    "colab_type": "text",
    "deletable": false,
    "id": "GCr6DdIxtp8L",
    "nbgrader": {
     "cell_type": "markdown",
     "checksum": "2f71385be46da088b28c909ad903f3be",
     "grade": true,
     "grade_id": "cell-f864b8c75016ac92",
     "locked": false,
     "points": 2,
     "schema_version": 3,
     "solution": true,
     "task": false
    }
   },
   "source": [
    "**WRITE YOUR ANSWER IN THIS CELL**\n",
    "(a) The words {gynecologist, obstetrician} and escpecially {nurse, midwife, nurse_practitioner} expose some gender bias.\n",
    "\n",
    "(b) The words {surgeon, dentist, cardiologist, neurosurgeon, urologist, internist} expose some gender bias."
   ]
  },
  {
   "cell_type": "markdown",
   "metadata": {
    "colab_type": "text",
    "deletable": false,
    "editable": false,
    "id": "_uuPx1uXtp8T",
    "nbgrader": {
     "cell_type": "markdown",
     "checksum": "3290cbeabae6a48b4e17a2aed5af5d0a",
     "grade": false,
     "grade_id": "cell-5c7c43619c3f4f0f",
     "locked": true,
     "schema_version": 3,
     "solution": false,
     "task": false
    }
   },
   "source": [
    "### Question 2.7: Thinking About Bias\n",
    "\n",
    "What might be the cause of these perceived biases in the word vectors?"
   ]
  },
  {
   "cell_type": "markdown",
   "metadata": {
    "colab_type": "text",
    "deletable": false,
    "id": "Hr5RV6Yctp8U",
    "nbgrader": {
     "cell_type": "markdown",
     "checksum": "1874d3faaabbdeee055094c0badf0406",
     "grade": true,
     "grade_id": "cell-6c502795f3e41393",
     "locked": false,
     "points": 1,
     "schema_version": 3,
     "solution": true,
     "task": false
    }
   },
   "source": [
    "**WRITE YOUR ANSWER IN THIS CELL**\n",
    "The data itself is biased:\n",
    "Althogh there are many talented women, and especially doctors; it is more common in articles and in the general media for women to appear in proximity with gender biased occupations, and it is reflected on the data. "
   ]
  }
 ],
 "metadata": {
  "anaconda-cloud": {},
  "colab": {
   "name": "exploring_word_vectors.ipynb",
   "provenance": []
  },
  "kernelspec": {
   "display_name": "Python 3",
   "language": "python",
   "name": "python3"
  },
  "language_info": {
   "codemirror_mode": {
    "name": "ipython",
    "version": 3
   },
   "file_extension": ".py",
   "mimetype": "text/x-python",
   "name": "python",
   "nbconvert_exporter": "python",
   "pygments_lexer": "ipython3",
   "version": "3.7.4"
  }
 },
 "nbformat": 4,
 "nbformat_minor": 1
}
