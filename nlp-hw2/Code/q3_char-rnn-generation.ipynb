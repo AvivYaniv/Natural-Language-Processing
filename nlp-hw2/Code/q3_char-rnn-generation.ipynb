{
 "cells": [
  {
   "cell_type": "markdown",
   "metadata": {},
   "source": [
    "### Submission Instructions:\n",
    "1. **Restart the kernel** (in the menubar, select Runtime$\\rightarrow$Restart runtime)\n",
    "2. **Run all cells** (in the menubar, select Runtime$\\rightarrow$Run All).\n",
    "3. **Download the notebook** (in the menubar, select File$\\rightarrow$Download .ipynb)\n",
    "4. **Add the downloaded notebook (.ipynb file) to the submission zip**.\n",
    "\n",
    "Make sure you fill in any place that says `YOUR CODE HERE` or \"**WRITE YOUR ANSWER IN THIS CELL**\", and that no tests fail.  \n",
    "Write the IDs of all group members in the cell below. Leave any surplus IDs as `\"\"`."
   ]
  },
  {
   "cell_type": "markdown",
   "metadata": {},
   "source": [
    "ID1 = \"\"  \n",
    "ID2 = \"\"  \n"
   ]
  },
  {
   "cell_type": "markdown",
   "metadata": {},
   "source": [
    "---"
   ]
  },
  {
   "cell_type": "markdown",
   "metadata": {
    "deletable": false,
    "editable": false,
    "nbgrader": {
     "cell_type": "markdown",
     "checksum": "5493400e8b7f9a8e2cde874866d4fa7f",
     "grade": false,
     "grade_id": "cell-3a1bca1dbb7d0069",
     "locked": true,
     "schema_version": 3,
     "solution": false,
     "task": false
    }
   },
   "source": [
    "![shakespeare](https://i.imgur.com/81YZuel.jpg)\n",
    "\n",
    "# Generating Shakespeare Using a Character-level Language Model\n",
    "\n",
    "### From Words to Characters\n",
    "In the previous two sections we dealt with word-level language models. But looking again at section 2, there is nothing that constraints us to using _words_ as the basic elemnents in our model. The model we analyzed in section 2 could just as well be character-based - just replace \"word\" with \"character\", and you are good to go. In this notebook we will train a small character-based language model that will help us generate Shakespearean-like (emphasis on the _like_...) texts."
   ]
  },
  {
   "cell_type": "markdown",
   "metadata": {
    "deletable": false,
    "editable": false,
    "nbgrader": {
     "cell_type": "markdown",
     "checksum": "9af7a343d0e3524c3fd846d987d766a8",
     "grade": false,
     "grade_id": "cell-7301754e4d655d01",
     "locked": true,
     "schema_version": 3,
     "solution": false,
     "task": false
    }
   },
   "source": [
    "### Question 3.a\n",
    "Can you think of an advantage a character-based language model could have over a word-based language model? _(You might find question 2.c useful)_. And what about the other way around: can you think of an advantage a word-based language model could have over a character-based language model?"
   ]
  },
  {
   "cell_type": "markdown",
   "metadata": {
    "deletable": false,
    "nbgrader": {
     "cell_type": "markdown",
     "checksum": "eb742db028fffc9c69d14202fc1e24bd",
     "grade": true,
     "grade_id": "cell-e19646c939692ee9",
     "locked": false,
     "points": 4,
     "schema_version": 3,
     "solution": true,
     "task": false
    }
   },
   "source": [
    "**WRITE YOUR ANSWER IN THIS CELL**\n",
    "We think that a character-based language model can be better in languages like Hebrew or German, where each word is a construction of few sub-words. For example the Hebrew word (ובבתיהם) contains 3 meaning units: “in” “their” and “houses”. It is very reasonable to assume that this word won’t appear much at this form, but rather in a few other forms of the word “בית”. Therefore, it will be hard to train word- based model (sparsity), as opposed to char based model.\n",
    "On the other hand, because in a text there are significantly less words then chars, words based model will have less layers and will work faster. Additionally, it will grasp the semantic better then char-based model, because he will need less layers to connect 2 different words"
   ]
  },
  {
   "cell_type": "markdown",
   "metadata": {
    "deletable": false,
    "editable": false,
    "nbgrader": {
     "cell_type": "markdown",
     "checksum": "d46a8dfd340b8f68e51a041307f7d7d3",
     "grade": false,
     "grade_id": "cell-ebc0d8ae3061c0fc",
     "locked": true,
     "schema_version": 3,
     "solution": false,
     "task": false
    }
   },
   "source": [
    "### Using PyTorch\n",
    "\n",
    "We'll build our language model using PyTorch. PyTorch is a [very popular](https://thegradient.pub/state-of-ml-frameworks-2019-pytorch-dominates-research-tensorflow-dominates-industry/) open-source machine learning (and deep learning) framework developed by Facebook. In short:\n",
    "\n",
    "> Pytorch is a Python-based scientific computing package targeted at two sets of audiences:\n",
    "* A replacement for NumPy to use the power of GPUs\n",
    "* A deep learning research platform that provides maximum flexibility and speed\n",
    "\n",
    "To get familiar with PyTorch, check out this [quick tutorial](https://pytorch.org/tutorials/beginner/blitz/tensor_tutorial.html). In addition, another imporant difference from numpy is that PyTorch can automatically calculate the gradients needed for backpropagation, as explained [here](https://pytorch.org/tutorials/beginner/blitz/autograd_tutorial.html)."
   ]
  },
  {
   "cell_type": "markdown",
   "metadata": {
    "deletable": false,
    "editable": false,
    "nbgrader": {
     "cell_type": "markdown",
     "checksum": "02af8a21a2e8fae58d84f915de5b016d",
     "grade": false,
     "grade_id": "cell-aa2773db1bef7014",
     "locked": true,
     "schema_version": 3,
     "solution": false,
     "task": false
    }
   },
   "source": [
    "### Preparing the Data\n",
    "\n",
    "Our dataset is a plain text file. For simplicity, we turn any potential unicode characters into plain ASCII by using the `unidecode` package."
   ]
  },
  {
   "cell_type": "code",
   "execution_count": 4,
   "metadata": {
    "deletable": false,
    "editable": false,
    "nbgrader": {
     "cell_type": "code",
     "checksum": "ef0359e8c08b2057771c115150011e7e",
     "grade": false,
     "grade_id": "cell-cce75419c097f3fd",
     "locked": true,
     "schema_version": 3,
     "solution": false,
     "task": false
    },
    "pycharm": {
     "is_executing": false
    }
   },
   "outputs": [
    {
     "name": "stdout",
     "output_type": "stream",
     "text": [
      "Total number of characters in our dataset: 1115394\n"
     ]
    }
   ],
   "source": [
    "import string\n",
    "import random\n",
    "import re\n",
    "\n",
    "import unidecode\n",
    "\n",
    "all_characters = string.printable\n",
    "n_characters = len(all_characters)  # our vocabulary size (|V| from the handout)\n",
    "\n",
    "dataset_as_string = unidecode.unidecode(open('data/shakespeare.txt').read())\n",
    "n_chars_in_dataset = len(dataset_as_string)\n",
    "print(f'Total number of characters in our dataset: {n_chars_in_dataset}')"
   ]
  },
  {
   "cell_type": "markdown",
   "metadata": {
    "deletable": false,
    "editable": false,
    "nbgrader": {
     "cell_type": "markdown",
     "checksum": "06dd2ac91a6296206475c7e330e53e3d",
     "grade": false,
     "grade_id": "cell-d795f907dd7922f3",
     "locked": true,
     "schema_version": 3,
     "solution": false,
     "task": false
    }
   },
   "source": [
    "To make inputs out of this big string of text, we will split it into chunks."
   ]
  },
  {
   "cell_type": "code",
   "execution_count": 5,
   "metadata": {
    "deletable": false,
    "editable": false,
    "nbgrader": {
     "cell_type": "code",
     "checksum": "61947ad22fb7f16eba246d47ab8cae22",
     "grade": false,
     "grade_id": "cell-379f229536dae19b",
     "locked": true,
     "schema_version": 3,
     "solution": false,
     "task": false
    },
    "pycharm": {
     "is_executing": false
    }
   },
   "outputs": [
    {
     "name": "stdout",
     "output_type": "stream",
     "text": [
      "in:\n",
      "And after many scorns, many foul taunts,\n",
      "They took his head, and on the gates of York\n",
      "They set the same; and there it doth remain,\n",
      "The saddest spectacle that e'er I view'd.\n",
      "\n",
      "EDWARD:\n",
      "Sweet Duke of York, our prop to lean upon,\n",
      "Now thou art gone, we have no staff, no stay.\n",
      "O Clifford, boisterous Clifford! thou hast slain\n",
      "The flower of Europe for his chivalry;\n",
      "And treacherously hast thou vanquish'd\n"
     ]
    }
   ],
   "source": [
    "chunk_len = 400\n",
    "\n",
    "def random_chunk():\n",
    "    start_index = random.randint(0, n_chars_in_dataset - chunk_len)\n",
    "    end_index = start_index + chunk_len + 1\n",
    "    return dataset_as_string[start_index:end_index]\n",
    "\n",
    "print(random_chunk())"
   ]
  },
  {
   "cell_type": "markdown",
   "metadata": {
    "deletable": false,
    "editable": false,
    "nbgrader": {
     "cell_type": "markdown",
     "checksum": "ba5d4900ff254fa335fe935962878c8d",
     "grade": false,
     "grade_id": "cell-fcbb2d73f4e442fb",
     "locked": true,
     "schema_version": 3,
     "solution": false,
     "task": false
    }
   },
   "source": [
    "### Building Our Model\n",
    "\n",
    "Our model consists of three main components:\n",
    "\n",
    "1. [**Embedding**](https://pytorch.org/docs/stable/nn.html#embedding). A mapping between characters and their learned representations (\"word vectors\") \\[correspoding to ${\\boldsymbol L}$ in terms of the handout\\]\n",
    "2. [**GRU**](https://pytorch.org/docs/stable/nn.html#gru). \\[correspoding to the computation of ${\\boldsymbol h}^{(t)}$ in terms of the handout\\]\n",
    "3. **Output Layer**. A feed-forward neural network that transforms a hidden state at a timestep into a probability distribution of the next character. \\[correspoding to the computation of $\\hat{\\boldsymbol y}^{(t)}$ in terms of the handout\\] "
   ]
  },
  {
   "cell_type": "markdown",
   "metadata": {},
   "source": [
    "### Question 3.b\n",
    "Complete the implementation of the `forward` method of our model."
   ]
  },
  {
   "cell_type": "code",
   "execution_count": 20,
   "metadata": {
    "deletable": false,
    "nbgrader": {
     "cell_type": "code",
     "checksum": "a9ad1239fcd5aec23f439249397895ec",
     "grade": false,
     "grade_id": "cell-1640492438386e87",
     "locked": false,
     "schema_version": 3,
     "solution": true,
     "task": false
    },
    "pycharm": {
     "is_executing": false
    }
   },
   "outputs": [],
   "source": [
    "import torch\n",
    "import torch.nn as nn\n",
    "from torch.autograd import Variable\n",
    "\n",
    "class OurModel(nn.Module):\n",
    "    def __init__(self, input_size, hidden_size, output_size, num_layers=1):\n",
    "        super(OurModel, self).__init__()\n",
    "        self.input_size = input_size\n",
    "        self.hidden_size = hidden_size\n",
    "        self.output_size = output_size\n",
    "        self.num_layers = num_layers\n",
    "        \n",
    "        self.embedding = nn.Embedding(input_size, hidden_size)  # In the terms of the handout, here d = D_h\n",
    "        self.gru = nn.GRU(hidden_size, hidden_size, num_layers)\n",
    "        self.output_layer = nn.Linear(hidden_size, output_size)\n",
    "    \n",
    "    def forward(self, input_, hidden):\n",
    "        # General instructions:\n",
    "        # Pass the embedded input through the GRU and use the output layer to get the next character distribution.\n",
    "        # return that distribution and the next hidden state.\n",
    "        # You may need to play around with the dimensions a bit until you get it right. Dimension-induced frustration is good for you!\n",
    "        # -------------------------\n",
    "        # YOUR CODE HERE\n",
    "        input           = self.embedding(input_.view(1, -1))\n",
    "        output, hidden  = self.gru(input.view(1, 1, -1), hidden)\n",
    "        output          = self.output_layer(output.view(1, -1))\n",
    "        # -------------------------\n",
    "        return output, hidden\n",
    "\n",
    "    def init_hidden(self):\n",
    "        return Variable(torch.zeros(self.num_layers, 1, self.hidden_size))"
   ]
  },
  {
   "cell_type": "markdown",
   "metadata": {
    "deletable": false,
    "editable": false,
    "nbgrader": {
     "cell_type": "markdown",
     "checksum": "da793a49917dc4882e7e70f04d07a777",
     "grade": false,
     "grade_id": "cell-b9299fddeb082b4e",
     "locked": true,
     "schema_version": 3,
     "solution": false,
     "task": false
    }
   },
   "source": [
    "### Creating the Training Examples"
   ]
  },
  {
   "cell_type": "markdown",
   "metadata": {
    "deletable": false,
    "editable": false,
    "nbgrader": {
     "cell_type": "markdown",
     "checksum": "f6eaeb80c370b32f26eda2ac1be57444",
     "grade": false,
     "grade_id": "cell-83bf9e1b0374206c",
     "locked": true,
     "schema_version": 3,
     "solution": false,
     "task": false
    }
   },
   "source": [
    "Each chunk will be turned into a tensor by looping through the characters of the string and looking up the index of each character in `all_characters`."
   ]
  },
  {
   "cell_type": "code",
   "execution_count": 21,
   "metadata": {
    "deletable": false,
    "editable": false,
    "nbgrader": {
     "cell_type": "code",
     "checksum": "cc87bca342db2fde1b3957f48bcfe857",
     "grade": false,
     "grade_id": "cell-5360afdd0b03b1f4",
     "locked": true,
     "schema_version": 3,
     "solution": false,
     "task": false
    },
    "pycharm": {
     "is_executing": false
    }
   },
   "outputs": [
    {
     "name": "stdout",
     "output_type": "stream",
     "text": [
      "tensor([10, 11, 12, 39, 40, 41])\n"
     ]
    }
   ],
   "source": [
    "# Turn a string into list of longs\n",
    "def chars_to_tensor(string):\n",
    "    tensor = torch.zeros(len(string)).long()\n",
    "    for c in range(len(string)):\n",
    "        tensor[c] = all_characters.index(string[c])\n",
    "    return Variable(tensor)\n",
    "\n",
    "print(chars_to_tensor('abcDEF'))"
   ]
  },
  {
   "cell_type": "markdown",
   "metadata": {
    "deletable": false,
    "editable": false,
    "nbgrader": {
     "cell_type": "markdown",
     "checksum": "32c02aa64cee9046c2917487ac982de0",
     "grade": false,
     "grade_id": "cell-6e7b3d9e8c9396bb",
     "locked": true,
     "schema_version": 3,
     "solution": false,
     "task": false
    }
   },
   "source": [
    "Each training example for our model will be created from a chunk randomly extracted from our shakespeare dataset. For example, if we set our chunk size to be 28, then a randomly extracted chunk could be $\\texttt{As deep as that, though true}$. Each training example is of a form $(\\textbf{x},\\textbf{y})$ where $\\textbf{x}$ is all the charecters of the chunk *except the last* and $\\textbf{y}$ is all the charecters of the chunk *except the first*. For example, given the chunk above, $\\textbf{x}=\\texttt{As deep as that, though tru}$ and $\\textbf{y}=\\texttt{s deep as that, though true}$. At timestep i our input is $\\textbf{x}^{(i)}$ and the gold label our model will try to predict is $\\textbf{y}^{(i)}$."
   ]
  },
  {
   "cell_type": "code",
   "execution_count": 27,
   "metadata": {
    "deletable": false,
    "editable": false,
    "nbgrader": {
     "cell_type": "code",
     "checksum": "f159d648c0ab9ffbdc096aeac6905a57",
     "grade": false,
     "grade_id": "cell-d3539c5f1d96a188",
     "locked": true,
     "schema_version": 3,
     "solution": false,
     "task": false
    },
    "pycharm": {
     "is_executing": false
    }
   },
   "outputs": [],
   "source": [
    "def random_training_example():    \n",
    "    chunk = random_chunk()\n",
    "    inp = chars_to_tensor(chunk[:-1])\n",
    "    target = chars_to_tensor(chunk[1:])\n",
    "    return inp, target"
   ]
  },
  {
   "cell_type": "markdown",
   "metadata": {
    "deletable": false,
    "editable": false,
    "nbgrader": {
     "cell_type": "markdown",
     "checksum": "18a6bf800d9bc590739b15ba01dda408",
     "grade": false,
     "grade_id": "cell-16d13f3b273395ac",
     "locked": true,
     "schema_version": 3,
     "solution": false,
     "task": false
    }
   },
   "source": [
    "### Evaluating\n",
    "\n",
    "To evaluate the network we will feed one character at a time, use the outputs of the network as a probability distribution for the next character, and repeat. To start generation we pass a priming string to start building up the hidden state, from which we then generate one character at a time."
   ]
  },
  {
   "cell_type": "markdown",
   "metadata": {
    "deletable": false,
    "editable": false,
    "nbgrader": {
     "cell_type": "markdown",
     "checksum": "3fffa10554299eaae14cc007fea3935a",
     "grade": false,
     "grade_id": "cell-1d3fd015fe8f64d1",
     "locked": true,
     "schema_version": 3,
     "solution": false,
     "task": false
    }
   },
   "source": [
    "### Training"
   ]
  },
  {
   "cell_type": "code",
   "execution_count": 13,
   "metadata": {
    "deletable": false,
    "editable": false,
    "nbgrader": {
     "cell_type": "code",
     "checksum": "a47c721a818979b886f119401206e756",
     "grade": false,
     "grade_id": "cell-44ab27a8fee696ad",
     "locked": true,
     "schema_version": 3,
     "solution": false,
     "task": false
    },
    "pycharm": {
     "is_executing": false
    }
   },
   "outputs": [],
   "source": [
    "import torch.nn.functional as F\n",
    "\n",
    "def evaluate(prime_str='A', predict_len=100, temperature=0.8):\n",
    "    hidden = model.init_hidden()\n",
    "    prime_input = chars_to_tensor(prime_str)\n",
    "    predicted = prime_str\n",
    "\n",
    "    # Use priming string to \"build up\" hidden state\n",
    "    for p in range(len(prime_str) - 1):\n",
    "        _, hidden = model(prime_input[p], hidden)\n",
    "    inp = prime_input[-1]\n",
    "    \n",
    "    for p in range(predict_len):\n",
    "        output, hidden = model(inp, hidden)\n",
    "        \n",
    "        # Sample from the network as a multinomial distribution\n",
    "        output_dist =  F.softmax(output / temperature, dim=-1)\n",
    "        top_i = torch.multinomial(output_dist, 1)[0]\n",
    "        \n",
    "        # Add predicted character to string and use as next input\n",
    "        predicted_char = all_characters[top_i]\n",
    "        predicted += predicted_char\n",
    "        inp = chars_to_tensor(predicted_char)\n",
    "\n",
    "    return predicted"
   ]
  },
  {
   "cell_type": "markdown",
   "metadata": {
    "deletable": false,
    "editable": false,
    "nbgrader": {
     "cell_type": "markdown",
     "checksum": "8a98218b35f47137eeba1ba1aead0700",
     "grade": false,
     "grade_id": "cell-a209b293a8850a57",
     "locked": true,
     "schema_version": 3,
     "solution": false,
     "task": false
    }
   },
   "source": [
    "The main training function"
   ]
  },
  {
   "cell_type": "code",
   "execution_count": 23,
   "metadata": {
    "deletable": false,
    "editable": false,
    "nbgrader": {
     "cell_type": "code",
     "checksum": "eb3bfcd4d49b2f2672447d8c65b6cb05",
     "grade": false,
     "grade_id": "cell-e246cbd9689e1a6d",
     "locked": true,
     "schema_version": 3,
     "solution": false,
     "task": false
    },
    "pycharm": {
     "is_executing": false
    }
   },
   "outputs": [],
   "source": [
    "def train(inp, target):\n",
    "    hidden = model.init_hidden()\n",
    "    model.zero_grad()\n",
    "    loss = 0\n",
    "\n",
    "    for c in range(chunk_len):\n",
    "        output, hidden = model(inp[c], hidden)\n",
    "        loss += criterion(output, target[c].view(-1))\n",
    "\n",
    "    loss.backward()\n",
    "    optimizer.step()\n",
    "\n",
    "    return loss.item() / chunk_len"
   ]
  },
  {
   "cell_type": "markdown",
   "metadata": {
    "deletable": false,
    "editable": false,
    "nbgrader": {
     "cell_type": "markdown",
     "checksum": "bfb863e279db4b170c35d8d0c7a37a1f",
     "grade": false,
     "grade_id": "cell-05ce9b9275e0d1cc",
     "locked": true,
     "schema_version": 3,
     "solution": false,
     "task": false
    }
   },
   "source": [
    "A helper to print the amount of time passed:"
   ]
  },
  {
   "cell_type": "code",
   "execution_count": 24,
   "metadata": {
    "deletable": false,
    "editable": false,
    "nbgrader": {
     "cell_type": "code",
     "checksum": "16d7b53f211a6a1bef71c1dd2d1271cf",
     "grade": false,
     "grade_id": "cell-cb78afef7022f9a1",
     "locked": true,
     "schema_version": 3,
     "solution": false,
     "task": false
    },
    "pycharm": {
     "is_executing": false
    }
   },
   "outputs": [],
   "source": [
    "import time, math\n",
    "\n",
    "def time_since(since):\n",
    "    s = time.time() - since\n",
    "    m = math.floor(s / 60)\n",
    "    s -= m * 60\n",
    "    return f'{m}m {math.floor(s)}s'"
   ]
  },
  {
   "cell_type": "code",
   "execution_count": 16,
   "metadata": {
    "deletable": false,
    "editable": false,
    "nbgrader": {
     "cell_type": "code",
     "checksum": "2b368f1767ddd0eddca44249fa47ed32",
     "grade": true,
     "grade_id": "cell-98f46bec0b8c87cc",
     "locked": true,
     "points": 10,
     "schema_version": 3,
     "solution": false,
     "task": false
    }
   },
   "outputs": [],
   "source": [
    "# DO NOT DELETE THIS CELL\n"
   ]
  },
  {
   "cell_type": "markdown",
   "metadata": {
    "deletable": false,
    "editable": false,
    "nbgrader": {
     "cell_type": "markdown",
     "checksum": "98abd7dd7805753c2e7b635f1265cb73",
     "grade": false,
     "grade_id": "cell-baf25642209867dc",
     "locked": true,
     "schema_version": 3,
     "solution": false,
     "task": false
    }
   },
   "source": [
    "Define the training parameters, instantiate the model, and start training:"
   ]
  },
  {
   "cell_type": "code",
   "execution_count": 25,
   "metadata": {
    "deletable": false,
    "editable": false,
    "nbgrader": {
     "cell_type": "code",
     "checksum": "b7392249521c153ef4d7713eecb8204a",
     "grade": false,
     "grade_id": "cell-4900f92ae503be69",
     "locked": true,
     "schema_version": 3,
     "solution": false,
     "task": false
    },
    "pycharm": {
     "is_executing": false
    }
   },
   "outputs": [
    {
     "name": "stdout",
     "output_type": "stream",
     "text": [
      "[time elapsed: 0m 25s  ;  iterations: 100 (5.0%)  ;  loss: 2.175]\n",
      "Whe you thel an the wil an wor at in im and I you ial thit an walll me gay my o she il dray burich lie th nor stin fared ler you frer, your mane preat s maray und my th weroke as soung ou pase gen porvi \n",
      "\n",
      "[time elapsed: 0m 53s  ;  iterations: 200 (10.0%)  ;  loss: 2.05]\n",
      "Wher, dour prownd enf[ingiled row\n",
      "To wor let fin dowdge to thof fith were agales?\n",
      "\n",
      "Seclenging I's hernare come ming mans, I wo gromed,\n",
      "Mor Ky coof heres and dom eand lut kith in of tow ther?\n",
      "\n",
      "Mand orngi \n",
      "\n",
      "[time elapsed: 1m 20s  ;  iterations: 300 (15.0%)  ;  loss: 1.942]\n",
      "Whos is cears then gavelves.\n",
      "\n",
      "LOCUTE:\n",
      "We hou thoussed, in beppore endangany.\n",
      "\n",
      "FRCIO:\n",
      "Hom be low,\n",
      "Belbare to by am and nald beced the ben is pretret heave oke.\n",
      "\n",
      "AULE:\n",
      "Aclend in my ablles Iald is amanely  \n",
      "\n",
      "[time elapsed: 1m 47s  ;  iterations: 400 (20.0%)  ;  loss: 1.791]\n",
      "What my have your the kised I not that, the I sherve,\n",
      "That you sy weed if, coarfter, Sigsir, west cray his have a feer,\n",
      "Mavice, Greamn to he see kind are betrue not sird, then,\n",
      "I live see, be thy lords  \n",
      "\n",
      "[time elapsed: 2m 13s  ;  iterations: 500 (25.0%)  ;  loss: 1.818]\n",
      "Why asio?\n",
      "\n",
      "BANTA:\n",
      "Whis ming are his the sirn for that saiser my the gread.\n",
      "\n",
      "HENRY HESTTE:\n",
      "He fay why has mupt thint treat the vitenus to shall\n",
      "And I that afe masteler coum, do me not and of the with tha \n",
      "\n",
      "[time elapsed: 2m 40s  ;  iterations: 600 (30.0%)  ;  loss: 1.966]\n",
      "Whingner soH him be faricents\n",
      "The repelf's wouw as soooW ill werenty,\n",
      "We is soly, Yor it; and grom dearved heaver he cours\n",
      "Theer an fold not reath the sele quover in that the read consiltner and his.\n",
      "\n",
      "F \n",
      "\n",
      "[time elapsed: 3m 8s  ;  iterations: 700 (35.0%)  ;  loss: 1.746]\n",
      "Wh I as child at but marrect\n",
      "Whee and furm the posure on of oo the is and meb,\n",
      "Whunder my wo, the a bake une,\n",
      "And, allaff I dones the coums.\n",
      "\n",
      "DUKE VINCENTIO:\n",
      "Self and the may his deself me:\n",
      "That the sor \n",
      "\n",
      "[time elapsed: 3m 35s  ;  iterations: 800 (40.0%)  ;  loss: 1.769]\n",
      "What bound, the have muthed the plody\n",
      "And you death.\n",
      "\n",
      "SIANDIO:\n",
      "Seat will aferby, lake your good prombline of geour their recaunest the hims;\n",
      "And dook my beat hable leevice challn not the recelings\n",
      "Or wh \n",
      "\n",
      "[time elapsed: 4m 2s  ;  iterations: 900 (45.0%)  ;  loss: 1.973]\n",
      "What the fill, the cainf their The with for sweet,\n",
      "As for were am fair must to death old to own the gold, the cure comess;\n",
      "And bother make sir man to wanded not thiswer ward,\n",
      "And yemple of coman yought  \n",
      "\n",
      "[time elapsed: 4m 30s  ;  iterations: 1000 (50.0%)  ;  loss: 1.804]\n",
      "Whom thought is brother:\n",
      "Margio, lild his sweet be praidection bet\n",
      "Whis in agaest! All.\n",
      "\n",
      "GULIUS:\n",
      "What thy swork thought, not have garty\n",
      "In that mean not to batter's gloods.\n",
      "\n",
      "GLOUCESTER:\n",
      "O' tis at ear yo \n",
      "\n",
      "[time elapsed: 4m 57s  ;  iterations: 1100 (55.00000000000001%)  ;  loss: 2.0]\n",
      "Whib die\n",
      "Well herself, a more ito theys.\n",
      "\n",
      "KING EDWARD III:\n",
      "Gedseath Ruchood and and to they of manness\n",
      "To have fall. What I when cures,\n",
      "I wome, the are aing them know,\n",
      "That it it of best, will not the f \n",
      "\n",
      "[time elapsed: 5m 25s  ;  iterations: 1200 (60.0%)  ;  loss: 1.777]\n",
      "Whery when churse fearl I have in here.\n",
      "\n",
      "NUMIONUS:\n",
      "A, it pringate stall, of was first of your juing glard forger,\n",
      "That a what bausel it we ere and remich recin,\n",
      "And ele my fill a would be mant prace;\n",
      "An \n",
      "\n",
      "[time elapsed: 5m 52s  ;  iterations: 1300 (65.0%)  ;  loss: 1.695]\n",
      "Whing eyop stander the keen old death the\n",
      "comper and eewy lades com their it proms.\n",
      "But morage, swave, and and eye tell men, the love\n",
      "Than to lest tip man, this hears?\n",
      "\n",
      "Fersive to this of\n",
      "For may the ha \n",
      "\n",
      "[time elapsed: 6m 19s  ;  iterations: 1400 (70.0%)  ;  loss: 1.809]\n",
      "Whand I dever, as have my knot here all now\n",
      "recortist God do hath the clomes the forsture,\n",
      "What to encord not a deads,\n",
      "For this fungear that which and then you hortied sounnel.\n",
      "Ageted? I lovo my cerpour \n",
      "\n",
      "[time elapsed: 6m 47s  ;  iterations: 1500 (75.0%)  ;  loss: 1.854]\n",
      "Wh thee time be in thee,\n",
      "For is that such and but be mane and bround you sir,\n",
      "for eyes hance word counner to greand since and on\n",
      "For and and no axpir old is it intence\n",
      "ant king.\n",
      "\n",
      "COMINIUS:\n",
      "We have be in \n",
      "\n",
      "[time elapsed: 7m 14s  ;  iterations: 1600 (80.0%)  ;  loss: 1.805]\n",
      "What lain the peath ditts,\n",
      "nand the were them plaiged leattle and precion,\n",
      "I have set; think of the wile fir;\n",
      "This fame listerlathing sore not the king,\n",
      "ANow, would right, let first, be setrious\n",
      "Think b \n",
      "\n",
      "[time elapsed: 7m 41s  ;  iterations: 1700 (85.0%)  ;  loss: 1.764]\n",
      "Whand elious of your in\n",
      "And my hon lies the heart's are and bebell you from with in you,\n",
      "For my lips parrint allow more wishas say.\n",
      "\n",
      "POLIXENES:\n",
      "Mark, sir, mother wife the is, be the plicklice you,\n",
      "Sich  \n",
      "\n",
      "[time elapsed: 8m 9s  ;  iterations: 1800 (90.0%)  ;  loss: 1.649]\n",
      "What is in my lond in parl?\n",
      "In as at upon of mistlem,\n",
      "Begring elsed is the not it my lord.\n",
      "\n",
      "QUEEN ELIZABETH:\n",
      "No kind sing would and bound the displess,\n",
      "Once and the hall and was groun, for that begrends \n",
      "\n",
      "[time elapsed: 8m 37s  ;  iterations: 1900 (95.0%)  ;  loss: 1.664]\n",
      "Which and pends father in them thee,\n",
      "But I lied and the when what and periend,\n",
      "Finds speak to cheisest his your deed you\n",
      "thy lord.\n",
      "\n",
      "GREMEO:\n",
      "The let the fear. That of the in the charf,\n",
      "Do no the so for s \n",
      "\n",
      "[time elapsed: 9m 5s  ;  iterations: 2000 (100.0%)  ;  loss: 1.524]\n",
      "Wher the hence thought yetniets\n",
      "Upon that at the fearp, on so cono,\n",
      "The have breas four list all his souls:\n",
      "The lifine done the despied hornguest his power are thou sclate\n",
      "Where less his give a faors, w \n",
      "\n"
     ]
    }
   ],
   "source": [
    "n_iterations = 2000\n",
    "print_every = 100\n",
    "plot_every = 10\n",
    "hidden_size = 100  # (D_h from the handout)\n",
    "num_layers = 1\n",
    "lr = 0.005\n",
    "\n",
    "model = OurModel(n_characters, hidden_size, n_characters, num_layers)\n",
    "optimizer = torch.optim.Adam(model.parameters(), lr=lr)\n",
    "criterion = nn.CrossEntropyLoss()\n",
    "\n",
    "start = time.time()\n",
    "all_losses = []\n",
    "loss_avg = 0\n",
    "\n",
    "for iteration in range(1, n_iterations + 1):\n",
    "    loss = train(*random_training_example())       \n",
    "    loss_avg += loss\n",
    "\n",
    "    if iteration % print_every == 0:\n",
    "        print(f'[time elapsed: {time_since(start)}  ;  iterations: {iteration} ({iteration / n_iterations * 100}%)  ;  loss: {loss:.4}]')\n",
    "        print(evaluate('Wh', 200), '\\n')  # generate text starting with 'Wh'\n",
    "\n",
    "    if iteration % plot_every == 0:\n",
    "        all_losses.append(loss_avg / plot_every)\n",
    "        loss_avg = 0"
   ]
  },
  {
   "cell_type": "markdown",
   "metadata": {
    "deletable": false,
    "editable": false,
    "nbgrader": {
     "cell_type": "markdown",
     "checksum": "8584d3be75d90a5197e7133411e0021d",
     "grade": false,
     "grade_id": "cell-ff9d72dafefa0a23",
     "locked": true,
     "schema_version": 3,
     "solution": false,
     "task": false
    }
   },
   "source": [
    "### Training Loss\n",
    "\n",
    "Plotting the the losses that were computed during training can provide a further indication that the network was indeed learning."
   ]
  },
  {
   "cell_type": "code",
   "execution_count": 28,
   "metadata": {
    "deletable": false,
    "editable": false,
    "nbgrader": {
     "cell_type": "code",
     "checksum": "77791204e14b67d3ad68d70695c479a6",
     "grade": false,
     "grade_id": "cell-f91bb597844b8f7d",
     "locked": true,
     "schema_version": 3,
     "solution": false,
     "task": false
    },
    "pycharm": {
     "is_executing": false
    }
   },
   "outputs": [
    {
     "data": {
      "text/plain": [
       "[<matplotlib.lines.Line2D at 0x1ccff0a6388>]"
      ]
     },
     "execution_count": 28,
     "metadata": {},
     "output_type": "execute_result"
    },
    {
     "data": {
      "image/png": "[encoded data removed]",
      "text/plain": [
       "<Figure size 432x288 with 1 Axes>"
      ]
     },
     "metadata": {
      "needs_background": "light"
     },
     "output_type": "display_data"
    }
   ],
   "source": [
    "import matplotlib.pyplot as plt\n",
    "%matplotlib inline\n",
    "\n",
    "plt.grid(True)\n",
    "plt.xlabel('# of iterations (divided by plot_every)')\n",
    "plt.ylabel('average loss')\n",
    "plt.plot(all_losses)"
   ]
  },
  {
   "cell_type": "markdown",
   "metadata": {
    "deletable": false,
    "editable": false,
    "nbgrader": {
     "cell_type": "markdown",
     "checksum": "a376c5ed8b8f2dff9ea4731669bc8a49",
     "grade": false,
     "grade_id": "cell-dac1f386e2b526f5",
     "locked": true,
     "schema_version": 3,
     "solution": false,
     "task": false
    }
   },
   "source": [
    "### Evaluating at Different Temperatures\n",
    "Every time we use the `evaluate` function to generate the distribution of the next character, we don't just use softmax as usual, but we also divide by a `temperature`.  \n",
    "Let's examine the effect of changing the temperature when generating text using our trained model:"
   ]
  },
  {
   "cell_type": "code",
   "execution_count": 29,
   "metadata": {},
   "outputs": [
    {
     "name": "stdout",
     "output_type": "stream",
     "text": [
      "That the so so so sorrow.\n",
      "\n",
      "MARIANA:\n",
      "The so so so so so so so so so so soul'd the for the so some\n",
      "The so so so so so his death her for the so so so soul'd\n",
      "The so so so so so so so so so soul'd the so so so some\n",
      "The so so so so so his death the for the so so so soul'd\n",
      "The death the so so so so so so so so so some the some\n",
      "The so his so so so so so so so so so so so so some\n",
      "The so so so so so so so so \n"
     ]
    }
   ],
   "source": [
    "print(evaluate('Th', 400, temperature=0.1))"
   ]
  },
  {
   "cell_type": "code",
   "execution_count": 30,
   "metadata": {},
   "outputs": [
    {
     "name": "stdout",
     "output_type": "stream",
     "text": [
      "That the say this like your bewone\n",
      "The did compants the for the peers her not honess,\n",
      "Thou have his celest that stroke in the serve and the so the sten vichless\n",
      "This beace a couse at that with this so lead of the too master of a some\n",
      "The so Clipter in my love the for your sore in\n",
      "Her, dainest of my from he gried in that the deen from\n",
      "That love see the pealter a presser for the fair falest of thy\n",
      "sho\n"
     ]
    }
   ],
   "source": [
    "print(evaluate('Th', 400, temperature=0.5))"
   ]
  },
  {
   "cell_type": "code",
   "execution_count": 31,
   "metadata": {},
   "outputs": [
    {
     "name": "stdout",
     "output_type": "stream",
     "text": [
      "That then with lay my for say\n",
      "Ay, the for life for he ctarry the ere my boot,\n",
      "Than at done gorsing thee know to morers bent-to his?\n",
      "\n",
      "CAPULET:\n",
      "Who the son'd myself so haster when at it say.\n",
      "\n",
      "PRANIO:\n",
      "The king Mantreed will bettering broth;\n",
      "Night gave thinst other priest stranio I love love you know and my love soul'd, I\n",
      "\n",
      "HENA:\n",
      "What I fear as brother and as with it the pleforitor'd.\n",
      "Shall a common: boy\n"
     ]
    }
   ],
   "source": [
    "print(evaluate('Th', 400, temperature=0.8))  # the default value"
   ]
  },
  {
   "cell_type": "code",
   "execution_count": 32,
   "metadata": {},
   "outputs": [
    {
     "name": "stdout",
     "output_type": "stream",
     "text": [
      "That And as your sight\n",
      "Talicies love Is it shall villess friin his filled all.\n",
      "\n",
      "HENGRIAS:\n",
      "He's fet at verve of than you desoul gives.\n",
      "\n",
      "THOMPRONENI:\n",
      "My have is tish'd, angir--whis now he mine is else.\n",
      "So his have more untow a grout-do so'll'd in\n",
      "the madge sayeld man themTy bore\n",
      "whisy to--twaule.\n",
      "\n",
      "HENRY ANNE:\n",
      "Why your grait; faith nellow tonguest then?\n",
      "\n",
      "COMINIUS:\n",
      "For you batherd it in was to returpst \n"
     ]
    }
   ],
   "source": [
    "print(evaluate('Th', 400, temperature=1))"
   ]
  },
  {
   "cell_type": "code",
   "execution_count": 33,
   "metadata": {},
   "outputs": [
    {
     "name": "stdout",
     "output_type": "stream",
     "text": [
      "Thilve a to ningetion'\n",
      "Weatherean thif her o, andy inteer!\n",
      "A ei, Ae-gritosed Itlego dry dnart;\n",
      "for crobficative, Rome, falliag my ma?\n",
      "Good'd,\n",
      "For he so Cumlar waor meptisabours to,ture: dOut'ty?\n",
      "The patherAh y laindd'll enomps thee; yo, undirs,\n",
      "Firle? O aploye. Of hopporm.\n",
      "\n",
      "RILA AI:\n",
      "I'll Dres: wisof?' wondrenkoflocsits,, foave with uft washil\n",
      "grow.\n",
      "By keen seit.\n",
      "\n",
      "YORK:\n",
      "Mo'th have eviced?\n",
      "\n",
      "thinwerut,\n"
     ]
    }
   ],
   "source": [
    "print(evaluate('Th', 400, temperature=1.5))"
   ]
  },
  {
   "cell_type": "markdown",
   "metadata": {
    "deletable": false,
    "editable": false,
    "nbgrader": {
     "cell_type": "markdown",
     "checksum": "33ad994fe23b1e288fc8ef61422435cd",
     "grade": false,
     "grade_id": "cell-08d4f5f563b097a0",
     "locked": true,
     "schema_version": 3,
     "solution": false,
     "task": false
    }
   },
   "source": [
    "### Question 3.c\n",
    "How does the value of `temperature` affect the properties of the generated text?\n",
    "Specifically address the process of sampling a character from the next character distribution, and the effect `temperature` has on it."
   ]
  },
  {
   "cell_type": "markdown",
   "metadata": {
    "deletable": false,
    "nbgrader": {
     "cell_type": "markdown",
     "checksum": "73f841dadc6afd8d63765a083c3f8914",
     "grade": true,
     "grade_id": "cell-bfdb7d9e747067db",
     "locked": false,
     "points": 6,
     "schema_version": 3,
     "solution": true,
     "task": false
    }
   },
   "source": [
    "**WRITE YOUR ANSWER IN THIS CELL**\n",
    "Temperature affects the softmax output;\n",
    "High temperature will result with more evenly distributed probabilities for the tokens whereas lower temperature will result with less evenly distributed probability and more towards the tokens with the original higher softmax probabilities. \n",
    "Higher temperature yields more diverse and random text, with more mistakes.\n",
    "Lower temperature yields more predictable and repetitive text with same high probability tokens appearing more. "
   ]
  }
 ],
 "metadata": {
  "anaconda-cloud": {},
  "kernelspec": {
   "display_name": "Python 3",
   "language": "python",
   "name": "python3"
  },
  "language_info": {
   "codemirror_mode": {
    "name": "ipython",
    "version": 3
   },
   "file_extension": ".py",
   "mimetype": "text/x-python",
   "name": "python",
   "nbconvert_exporter": "python",
   "pygments_lexer": "ipython3",
   "version": "3.7.4"
  },
  "pycharm": {
   "stem_cell": {
    "cell_type": "raw",
    "metadata": {
     "collapsed": false
    },
    "source": []
   }
  }
 },
 "nbformat": 4,
 "nbformat_minor": 1
}
